{
 "cells": [
  {
   "cell_type": "code",
   "execution_count": null,
   "id": "fb496bbb-523e-4147-81f5-853a9bec6adc",
   "metadata": {},
   "outputs": [],
   "source": [
    "import torch\n",
    "from diffusers import StableDiffusionPipeline\n",
    "\n",
    "pipe = StableDiffusionPipeline.from_pretrained(\"CompVis/stable-diffusion-v1-4\", torch_dtype=torch.float16, safety_checker = None)  "
   ]
  },
  {
   "cell_type": "code",
   "execution_count": null,
   "id": "19f36701-56d7-4083-b52b-e1a2267e6615",
   "metadata": {},
   "outputs": [],
   "source": [
    "pipe = pipe.to(\"cuda\")"
   ]
  },
  {
   "cell_type": "code",
   "execution_count": null,
   "id": "aefac99a-1600-46d0-a454-0a1727208551",
   "metadata": {},
   "outputs": [],
   "source": [
    "prompt = \"Students listen to lecture with funny hats\"\n",
    "image = pipe(prompt).images[0] \n",
    "image"
   ]
  },
  {
   "cell_type": "code",
   "execution_count": null,
   "id": "e935237c-34e3-4b54-87f5-b5cb0965fadb",
   "metadata": {},
   "outputs": [],
   "source": [
    "import torch\n",
    "\n",
    "generator = torch.Generator(\"cuda\").manual_seed(2048)\n",
    "\n",
    "image = pipe(\"Students listen to lecture with funny hats\", num_inference_steps=50, generator=generator).images[0]\n",
    "\n",
    "image"
   ]
  },
  {
   "cell_type": "code",
   "execution_count": null,
   "id": "edde57c6-7417-42cc-8f75-d62f6db9c016",
   "metadata": {},
   "outputs": [],
   "source": []
  }
 ],
 "metadata": {
  "kernelspec": {
   "display_name": "Python 3 (ipykernel)",
   "language": "python",
   "name": "python3"
  },
  "language_info": {
   "codemirror_mode": {
    "name": "ipython",
    "version": 3
   },
   "file_extension": ".py",
   "mimetype": "text/x-python",
   "name": "python",
   "nbconvert_exporter": "python",
   "pygments_lexer": "ipython3",
   "version": "3.12.3"
  }
 },
 "nbformat": 4,
 "nbformat_minor": 5
}

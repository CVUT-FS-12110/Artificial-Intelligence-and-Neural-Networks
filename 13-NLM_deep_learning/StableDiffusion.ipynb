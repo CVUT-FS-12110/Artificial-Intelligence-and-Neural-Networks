{
 "cells": [
  {
   "cell_type": "code",
   "execution_count": null,
   "metadata": {
    "colab": {
     "base_uri": "https://localhost:8080/"
    },
    "executionInfo": {
     "elapsed": 22150,
     "status": "ok",
     "timestamp": 1702506187407,
     "user": {
      "displayName": "Cyril Oswald",
      "userId": "11392252296140795021"
     },
     "user_tz": -60
    },
    "id": "oUK5dVP3RRFA",
    "outputId": "3d24898a-fc9f-4369-e7eb-9646c01a820a"
   },
   "outputs": [],
   "source": [
    "! pip install keras_cv\n",
    "import time\n",
    "import keras_cv\n",
    "from tensorflow import keras\n",
    "import matplotlib.pyplot as plt"
   ]
  },
  {
   "cell_type": "code",
   "execution_count": null,
   "metadata": {
    "executionInfo": {
     "elapsed": 217,
     "status": "ok",
     "timestamp": 1702506187610,
     "user": {
      "displayName": "Cyril Oswald",
      "userId": "11392252296140795021"
     },
     "user_tz": -60
    },
    "id": "YN29Bo1HRSDX"
   },
   "outputs": [],
   "source": [
    "# set keras to use 16-bit precission for 32-bits parameters\n",
    "keras.mixed_precision.set_global_policy(\"mixed_float16\")"
   ]
  },
  {
   "cell_type": "code",
   "execution_count": null,
   "metadata": {
    "colab": {
     "base_uri": "https://localhost:8080/"
    },
    "executionInfo": {
     "elapsed": 76819,
     "status": "ok",
     "timestamp": 1702506265884,
     "user": {
      "displayName": "Cyril Oswald",
      "userId": "11392252296140795021"
     },
     "user_tz": -60
    },
    "id": "Ifcb4QIyRhbO",
    "outputId": "7cd0656a-7429-45f3-d4b9-2ed3cbb3c305"
   },
   "outputs": [],
   "source": [
    "# Load the model\n",
    "model = keras_cv.models.StableDiffusion()\n",
    "\n",
    "print(\"Compute dtype:\", model.diffusion_model.compute_dtype)\n",
    "print(\n",
    "    \"Variable dtype:\",\n",
    "    model.diffusion_model.variable_dtype,\n",
    ")"
   ]
  },
  {
   "cell_type": "code",
   "execution_count": null,
   "metadata": {
    "executionInfo": {
     "elapsed": 188,
     "status": "ok",
     "timestamp": 1702507404130,
     "user": {
      "displayName": "Cyril Oswald",
      "userId": "11392252296140795021"
     },
     "user_tz": -60
    },
    "id": "2yxfRN81SjOZ"
   },
   "outputs": [],
   "source": [
    "def plot_images(images):\n",
    "    plt.figure(figsize=(20, 20))\n",
    "    for i in range(len(images)):\n",
    "        ax = plt.subplot(1, len(images), i + 1)\n",
    "        plt.imshow(images[i])\n",
    "        plt.axis(\"off\")"
   ]
  },
  {
   "cell_type": "code",
   "execution_count": null,
   "metadata": {
    "colab": {
     "base_uri": "https://localhost:8080/",
     "height": 385
    },
    "executionInfo": {
     "elapsed": 50806,
     "status": "ok",
     "timestamp": 1702508021247,
     "user": {
      "displayName": "Cyril Oswald",
      "userId": "11392252296140795021"
     },
     "user_tz": -60
    },
    "id": "Zbwz5DriRs-V",
    "outputId": "b6ea7df2-c948-4c8a-d452-5b66a3fdb412"
   },
   "outputs": [],
   "source": [
    "# Warm up model to run graph tracing before benchmarking.\n",
    "model.text_to_image(\"warming up the model\", batch_size=3)"
   ]
  },
  {
   "cell_type": "code",
   "execution_count": null,
   "metadata": {
    "id": "3TpeshUsWXjO"
   },
   "outputs": [],
   "source": [
    "# use the model\n",
    "start = time.time()\n",
    "images = model.text_to_image(\n",
    "    \"Black and white street photography of a rainy night in Tokyo, reflections on wet pavement.\",\n",
    "    batch_size=3,\n",
    ")\n",
    "end = time.time()\n",
    "plot_images(images)\n",
    "\n",
    "print(f\"Mixed precision model: {(end - start):.2f} seconds\")\n",
    "keras.backend.clear_session()"
   ]
  },
  {
   "cell_type": "code",
   "execution_count": null,
   "metadata": {},
   "outputs": [],
   "source": []
  }
 ],
 "metadata": {
  "accelerator": "GPU",
  "colab": {
   "authorship_tag": "ABX9TyNXZawhZ9PWtsqIvmHbyvVM",
   "gpuType": "T4",
   "provenance": []
  },
  "kernelspec": {
   "display_name": "Python 3 (ipykernel)",
   "language": "python",
   "name": "python3"
  },
  "language_info": {
   "codemirror_mode": {
    "name": "ipython",
    "version": 3
   },
   "file_extension": ".py",
   "mimetype": "text/x-python",
   "name": "python",
   "nbconvert_exporter": "python",
   "pygments_lexer": "ipython3",
   "version": "3.12.0"
  }
 },
 "nbformat": 4,
 "nbformat_minor": 4
}

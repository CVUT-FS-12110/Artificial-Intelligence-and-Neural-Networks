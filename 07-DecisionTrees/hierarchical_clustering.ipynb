{
 "cells": [
  {
   "cell_type": "markdown",
   "id": "8f2cb01e-5e0c-410f-b08c-787af265c065",
   "metadata": {},
   "source": [
    "# Hierarchical Clustering"
   ]
  },
  {
   "cell_type": "code",
   "execution_count": null,
   "id": "ad816d64-4ab6-46a6-b35d-3fb3033bbaea",
   "metadata": {},
   "outputs": [],
   "source": [
    "from itertools import cycle, islice\n",
    "\n",
    "import matplotlib.pyplot as plt\n",
    "import numpy as np\n",
    "\n",
    "from sklearn import cluster, datasets\n",
    "from sklearn.preprocessing import StandardScaler\n",
    "\n",
    "from scipy.cluster.hierarchy import dendrogram"
   ]
  },
  {
   "cell_type": "markdown",
   "id": "a859faa9-d3be-47b8-9219-f667c309a1d3",
   "metadata": {},
   "source": [
    "## Select dataset"
   ]
  },
  {
   "cell_type": "code",
   "execution_count": null,
   "id": "55cece3c-02ed-45e7-8062-968d29d8618d",
   "metadata": {},
   "outputs": [],
   "source": [
    "n_samples = 1500\n",
    "\n",
    "dataset = ['circles', 'moons', 'blobs']\n",
    "selection = 2\n",
    "\n",
    "match dataset[selection]:\n",
    "    case 'circles':\n",
    "        X, y = datasets.make_circles(n_samples=n_samples, factor=0.5, noise=0.05, random_state=170)\n",
    "    case 'moons':\n",
    "        X, y = datasets.make_moons(n_samples=n_samples, noise=0.05, random_state=170)\n",
    "    case 'blobs':\n",
    "        X, y = datasets.make_blobs(n_samples=n_samples, random_state=170)\n",
    "\n",
    "plt.scatter(X[:, 0], X[:, 1], s=10)\n",
    "plt.title(dataset[selection]);"
   ]
  },
  {
   "cell_type": "markdown",
   "id": "e40669c1-82d6-451d-8a26-0fe2f30d72f2",
   "metadata": {},
   "source": [
    "## Select linkage\n",
    "\n",
    "### Single linkage\n",
    "Uses the minimum of the distances between all observations of the two sets.\n",
    "\n",
    "### Average linkage\n",
    "Uses the average of the distances of each observation of the two sets.\n",
    "\n",
    "### Complete linkage\n",
    "Uuses the maximum distances between all observations of the two sets.\n",
    "\n",
    "### Ward linkage\n",
    "Minimizes the variance of the clusters being merged."
   ]
  },
  {
   "cell_type": "code",
   "execution_count": null,
   "id": "4ebb1230-bf7f-4bb3-ac4b-5f32b6938053",
   "metadata": {},
   "outputs": [],
   "source": [
    "linkages = ['single', 'average', 'complete', 'ward']\n",
    "linkage_names = ['Single linkage', 'Average linkage', 'Complete linkage', 'Ward linkage']\n",
    "selection_linkage = 3\n",
    "n_clusters = 3"
   ]
  },
  {
   "cell_type": "markdown",
   "id": "dc951c00-969a-48b2-bb6e-e3ada4b9a5a7",
   "metadata": {},
   "source": [
    "## Plot clusters"
   ]
  },
  {
   "cell_type": "code",
   "execution_count": null,
   "id": "0eadf618-5301-495d-a270-1ffbf3deb6cd",
   "metadata": {},
   "outputs": [],
   "source": [
    "X_standard = StandardScaler().fit_transform(X)\n",
    "algorithm = cluster.AgglomerativeClustering(n_clusters=n_clusters, linkage=linkages[selection_linkage])\n",
    "algorithm.fit(X_standard)\n",
    "# y_pred = algorithm.predict(X)\n",
    "y_pred = algorithm.labels_.astype(int)\n",
    "colors = [\"#377eb8\", \"#ff7f00\", \"#4daf4a\", \"#f781bf\", \"#a65628\", \"#984ea3\", \"#999999\", \"#e41a1c\", \"#dede00\"]\n",
    "plt.scatter(X[:, 0], X[:, 1], s=10, color=[colors[y_pred_single] for y_pred_single in y_pred])\n",
    "plt.title(f'{dataset[selection]} - {linkage_names[selection_linkage]}');"
   ]
  },
  {
   "cell_type": "markdown",
   "id": "c7bda26b-3a92-4cff-b742-1afc9fb09157",
   "metadata": {},
   "source": [
    "## Plot dendogram"
   ]
  },
  {
   "cell_type": "code",
   "execution_count": null,
   "id": "352d12c9-444f-4b62-b1c1-61b131fc6082",
   "metadata": {},
   "outputs": [],
   "source": [
    "truncate_level = 2\n",
    "\n",
    "def plot_dendrogram(model, **kwargs):\n",
    "    # Create linkage matrix and then plot the dendrogram\n",
    "\n",
    "    # create the counts of samples under each node\n",
    "    counts = np.zeros(model.children_.shape[0])\n",
    "    n_samples = len(model.labels_)\n",
    "    for i, merge in enumerate(model.children_):\n",
    "        current_count = 0\n",
    "        for child_idx in merge:\n",
    "            if child_idx < n_samples:\n",
    "                current_count += 1  # leaf node\n",
    "            else:\n",
    "                current_count += counts[child_idx - n_samples]\n",
    "        counts[i] = current_count\n",
    "\n",
    "    linkage_matrix = np.column_stack(\n",
    "        [model.children_, model.distances_, counts]\n",
    "    ).astype(float)\n",
    "\n",
    "    # Plot the corresponding dendrogram\n",
    "    dendrogram(linkage_matrix, **kwargs)\n",
    "\n",
    "algorithm = cluster.AgglomerativeClustering(distance_threshold=0, n_clusters=None, linkage=linkages[selection_linkage])\n",
    "algorithm.fit(X_standard)\n",
    "plt.figure(figsize=(10,4))\n",
    "plot_dendrogram(algorithm, truncate_mode=\"level\", p=truncate_level)\n",
    "plt.xlabel(\"Number of points in node (or index of point if no parenthesis).\")\n",
    "plt.title(f'Dendogram - {dataset[selection]} - {linkage_names[selection_linkage]}, Truncate level = {truncate_level}');"
   ]
  },
  {
   "cell_type": "code",
   "execution_count": null,
   "id": "e2ace2a8-2091-4f17-8e39-092f85eec163",
   "metadata": {},
   "outputs": [],
   "source": []
  }
 ],
 "metadata": {
  "kernelspec": {
   "display_name": "Python 3 (ipykernel)",
   "language": "python",
   "name": "python3"
  },
  "language_info": {
   "codemirror_mode": {
    "name": "ipython",
    "version": 3
   },
   "file_extension": ".py",
   "mimetype": "text/x-python",
   "name": "python",
   "nbconvert_exporter": "python",
   "pygments_lexer": "ipython3",
   "version": "3.11.10"
  }
 },
 "nbformat": 4,
 "nbformat_minor": 5
}

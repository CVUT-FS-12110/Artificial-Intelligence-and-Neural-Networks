{
 "cells": [
  {
   "cell_type": "code",
   "execution_count": null,
   "metadata": {
    "collapsed": true
   },
   "outputs": [],
   "source": [
    "import numpy as np"
   ]
  },
  {
   "cell_type": "code",
   "execution_count": null,
   "outputs": [],
   "source": [
    "#y = 1 + x1*x2 + x1*2 + x2*3 for x1,2 from {0, 1}\n",
    "X = [[0, 0],\n",
    "     [1, 1],\n",
    "     [1, 0],\n",
    "     [0, 1]]\n",
    "y = [1, 2, 3, 4]\n",
    "X = np.array(X)\n",
    "y = np.array(y)"
   ],
   "metadata": {
    "collapsed": false
   }
  },
  {
   "cell_type": "code",
   "execution_count": null,
   "outputs": [],
   "source": [
    "# helper function that returns split of data by threshold on given feature\n",
    "def split(X, y, feature, threshold):\n",
    "        # Create a boolean mask for the rows that go to the left child (where feature value is less than threshold).\n",
    "        left_mask = X[:, feature] < threshold\n",
    "        # Create a boolean mask for the rows that go to the right child (where feature value is not less than threshold).\n",
    "        right_mask = ~left_mask\n",
    "        # Split the data into left and right based on the masks and return the subsets.\n",
    "        if not np.any(right_mask):\n",
    "            return (X[left_mask], y[left_mask]),\n",
    "        elif not np.any(left_mask):\n",
    "            return (X[right_mask], y[right_mask]),\n",
    "        else:\n",
    "            return (X[left_mask], y[left_mask]), (X[right_mask], y[right_mask])"
   ],
   "metadata": {
    "collapsed": false
   }
  },
  {
   "cell_type": "code",
   "execution_count": null,
   "outputs": [],
   "source": [
    "# get score for set of targets\n",
    "y_s = y\n",
    "score = np.var(y_s)*len(y_s)\n",
    "print(f'Score: {score}')"
   ],
   "metadata": {
    "collapsed": false
   }
  },
  {
   "cell_type": "code",
   "execution_count": null,
   "outputs": [],
   "source": [
    "# get score for split by given feature and threshold\n",
    "X_s = X\n",
    "y_s = y\n",
    "splits = split(X_s, y_s, 1, 1)\n",
    "print(splits)\n",
    "score = sum(np.var(split[1]) * len(split[1]) for split in splits)\n",
    "print(score)"
   ],
   "metadata": {
    "collapsed": false
   }
  },
  {
   "cell_type": "code",
   "execution_count": null,
   "outputs": [],
   "source": [
    "# get target estimation for give set of targets\n",
    "y_s = y\n",
    "np.mean(y)"
   ],
   "metadata": {
    "collapsed": false
   }
  }
 ],
 "metadata": {
  "kernelspec": {
   "display_name": "Python 3",
   "language": "python",
   "name": "python3"
  },
  "language_info": {
   "codemirror_mode": {
    "name": "ipython",
    "version": 2
   },
   "file_extension": ".py",
   "mimetype": "text/x-python",
   "name": "python",
   "nbconvert_exporter": "python",
   "pygments_lexer": "ipython2",
   "version": "2.7.6"
  }
 },
 "nbformat": 4,
 "nbformat_minor": 0
}

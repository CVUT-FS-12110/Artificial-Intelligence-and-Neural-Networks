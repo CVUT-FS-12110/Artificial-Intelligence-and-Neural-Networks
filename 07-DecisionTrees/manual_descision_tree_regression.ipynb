{
 "cells": [
  {
   "cell_type": "code",
   "execution_count": null,
   "metadata": {},
   "outputs": [],
   "source": [
    "import numpy as np"
   ]
  },
  {
   "cell_type": "code",
   "execution_count": null,
   "metadata": {
    "collapsed": false,
    "jupyter": {
     "outputs_hidden": false
    }
   },
   "outputs": [],
   "source": [
    "X = [[0, 0],\n",
    "     [1, 1],\n",
    "     [1, 0],\n",
    "     [0, 1]]\n",
    "y = [1, 2, 3, 4]\n",
    "X = np.array(X)\n",
    "y = np.array(y)"
   ]
  },
  {
   "cell_type": "code",
   "execution_count": null,
   "metadata": {
    "collapsed": false,
    "jupyter": {
     "outputs_hidden": false
    }
   },
   "outputs": [],
   "source": [
    "# helper function that returns split of data by threshold on given feature\n",
    "def split(X, y, feature, threshold):\n",
    "        # Create a boolean mask for the rows that go to the left child (where feature value is less than threshold).\n",
    "        left_mask = X[:, feature] < threshold\n",
    "        # Create a boolean mask for the rows that go to the right child (where feature value is not less than threshold).\n",
    "        right_mask = ~left_mask\n",
    "        # Split the data into left and right based on the masks and return the subsets.\n",
    "        if not np.any(right_mask):\n",
    "            return (X[left_mask], y[left_mask]),\n",
    "        elif not np.any(left_mask):\n",
    "            return (X[right_mask], y[right_mask]),\n",
    "        else:\n",
    "            return (X[left_mask], y[left_mask]), (X[right_mask], y[right_mask])"
   ]
  },
  {
   "cell_type": "code",
   "execution_count": null,
   "metadata": {
    "collapsed": false,
    "jupyter": {
     "outputs_hidden": false
    }
   },
   "outputs": [],
   "source": [
    "# get score for set of targets\n",
    "y_s = y\n",
    "score = np.var(y_s)*len(y_s)\n",
    "print(f'Score: {score}')"
   ]
  },
  {
   "cell_type": "code",
   "execution_count": null,
   "metadata": {
    "collapsed": false,
    "jupyter": {
     "outputs_hidden": false
    }
   },
   "outputs": [],
   "source": [
    "# get score for split by given feature and threshold\n",
    "X_s = X\n",
    "y_s = y\n",
    "splits = split(X_s, y_s, 0, 0)\n",
    "print(splits)\n",
    "score = sum(np.var(split[1]) * len(split[1]) for split in splits)\n",
    "print(score)"
   ]
  },
  {
   "cell_type": "code",
   "execution_count": null,
   "metadata": {
    "collapsed": false,
    "jupyter": {
     "outputs_hidden": false
    }
   },
   "outputs": [],
   "source": [
    "X_1 = splits[0][0]\n",
    "X_2 = splits[1][0]\n",
    "y_1 = splits[0][1]\n",
    "y_2 = splits[1][1]\n"
   ]
  }
 ],
 "metadata": {
  "kernelspec": {
   "display_name": "Python 3 (ipykernel)",
   "language": "python",
   "name": "python3"
  },
  "language_info": {
   "codemirror_mode": {
    "name": "ipython",
    "version": 3
   },
   "file_extension": ".py",
   "mimetype": "text/x-python",
   "name": "python",
   "nbconvert_exporter": "python",
   "pygments_lexer": "ipython3",
   "version": "3.11.10"
  }
 },
 "nbformat": 4,
 "nbformat_minor": 4
}

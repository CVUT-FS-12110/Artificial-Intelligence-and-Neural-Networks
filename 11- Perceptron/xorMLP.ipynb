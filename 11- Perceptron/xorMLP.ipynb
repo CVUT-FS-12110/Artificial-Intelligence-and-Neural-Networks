{
 "cells": [
  {
   "cell_type": "markdown",
   "metadata": {},
   "source": [
    "# Solving XOR with MLP"
   ]
  },
  {
   "cell_type": "code",
   "execution_count": 1,
   "metadata": {},
   "outputs": [
    {
     "ename": "ModuleNotFoundError",
     "evalue": "No module named 'tensorflow'",
     "output_type": "error",
     "traceback": [
      "\u001b[0;31m---------------------------------------------------------------------------\u001b[0m",
      "\u001b[0;31mModuleNotFoundError\u001b[0m                       Traceback (most recent call last)",
      "Cell \u001b[0;32mIn[1], line 1\u001b[0m\n\u001b[0;32m----> 1\u001b[0m \u001b[38;5;28;01mimport\u001b[39;00m \u001b[38;5;21;01mtensorflow\u001b[39;00m \u001b[38;5;28;01mas\u001b[39;00m \u001b[38;5;21;01mtf\u001b[39;00m\n\u001b[1;32m      2\u001b[0m \u001b[38;5;28;01mimport\u001b[39;00m \u001b[38;5;21;01mnumpy\u001b[39;00m \u001b[38;5;28;01mas\u001b[39;00m \u001b[38;5;21;01mnp\u001b[39;00m\n\u001b[1;32m      3\u001b[0m \u001b[38;5;28;01mimport\u001b[39;00m \u001b[38;5;21;01mmatplotlib\u001b[39;00m\u001b[38;5;21;01m.\u001b[39;00m\u001b[38;5;21;01mpyplot\u001b[39;00m \u001b[38;5;28;01mas\u001b[39;00m \u001b[38;5;21;01mplt\u001b[39;00m\n",
      "\u001b[0;31mModuleNotFoundError\u001b[0m: No module named 'tensorflow'"
     ]
    }
   ],
   "source": [
    "import tensorflow as tf\n",
    "import numpy as np\n",
    "import matplotlib.pyplot as plt\n",
    "from IPython.display import HTML\n",
    "from matplotlib import animation, rc\n",
    "rc('animation', html='html5')\n",
    "rc('animation', writer='avconv')"
   ]
  },
  {
   "cell_type": "markdown",
   "metadata": {},
   "source": [
    "The XOR problem is a two-class classification problem. You only have four\n",
    "datapoints, all of which are given during training time. Each datapoint has\n",
    "two features:"
   ]
  },
  {
   "cell_type": "code",
   "execution_count": null,
   "metadata": {},
   "outputs": [],
   "source": [
    "import matplotlib.pyplot as plt\n",
    "%matplotlib inline\n",
    "\n",
    "plt.figure()\n",
    "plt.plot([0, 1], [0, 1], '*b', ms=20)\n",
    "plt.plot([1, 0], [0, 1], '*r', ms=20)\n",
    "plt.show()"
   ]
  },
  {
   "cell_type": "markdown",
   "metadata": {},
   "source": [
    "As you can see, the classifier has to learn a non-linear transformation of the features to find a propper decision boundary."
   ]
  },
  {
   "cell_type": "code",
   "execution_count": null,
   "metadata": {},
   "outputs": [],
   "source": [
    "tf.__version__"
   ]
  },
  {
   "cell_type": "markdown",
   "metadata": {},
   "source": [
    "## Dataset definition"
   ]
  },
  {
   "cell_type": "code",
   "execution_count": null,
   "metadata": {},
   "outputs": [],
   "source": [
    "dataset_x = np.array([np.array([0, 0]),\n",
    "             np.array([0, 1]),\n",
    "             np.array([1, 0]),\n",
    "             np.array([1, 1])])\n",
    "dataset_y = np.array([0, 1, 1, 0])"
   ]
  },
  {
   "cell_type": "markdown",
   "metadata": {},
   "source": [
    "### Dataset for visualisation"
   ]
  },
  {
   "cell_type": "code",
   "execution_count": null,
   "metadata": {},
   "outputs": [],
   "source": [
    "x1 = np.arange(-0.5, 1.5, 0.01)\n",
    "x2 = np.arange(-0.5, 1.5, 0.01)\n",
    "xx, yy = np.meshgrid(x1,x2)\n",
    "test_x = np.column_stack((xx.flatten(), yy.flatten()))"
   ]
  },
  {
   "cell_type": "markdown",
   "metadata": {},
   "source": [
    "### Neural network definition"
   ]
  },
  {
   "cell_type": "code",
   "execution_count": null,
   "metadata": {},
   "outputs": [],
   "source": [
    "model = tf.keras.models.Sequential([tf.keras.layers.Dense(4, activation='relu'),\n",
    "                                    tf.keras.layers.Dense(4, activation='relu'),\n",
    "                                    tf.keras.layers.Dense(2, activation='softmax')\n",
    "                                   ])"
   ]
  },
  {
   "cell_type": "markdown",
   "metadata": {},
   "source": [
    "Softmax function\n",
    "\n",
    "$ \\sigma(\\boldsymbol{z})_j = \\frac{e^{z_j}}{\\sum_{k=1}^{K}{e^{z_k}}}$\n",
    "\n",
    "Cross entropy\n",
    "\n",
    "$ H(p,q) = - \\sum_{x}{p(x) \\log{q(x)}} $\n",
    "\n",
    "where $ p(x) $ is the probability distribution of nn output and $ q(x) $ is the probability distribution of labels."
   ]
  },
  {
   "cell_type": "code",
   "execution_count": null,
   "metadata": {},
   "outputs": [],
   "source": [
    "model.compile(optimizer='adam',\n",
    "              loss='sparse_categorical_crossentropy',\n",
    "              metrics=['accuracy']\n",
    "              )"
   ]
  },
  {
   "cell_type": "markdown",
   "metadata": {},
   "source": [
    "## Training"
   ]
  },
  {
   "cell_type": "code",
   "execution_count": null,
   "metadata": {},
   "outputs": [],
   "source": [
    "n_epochs = 50\n",
    "img = np.zeros((n_epochs, 200, 200))\n",
    "error_v = np.zeros(n_epochs)\n",
    "weights_v = np.zeros((n_epochs, 3))\n",
    "\n",
    "for epoch in range(n_epochs):\n",
    "    model.fit(dataset_x, dataset_y, epochs=50, verbose=0)\n",
    "    img[epoch] = model.predict(test_x)[:,0].reshape((200,200))\n",
    "    loss, accuracy = model.evaluate(dataset_x, dataset_y, verbose=0)\n",
    "    error_v[epoch] = loss\n",
    "    \n",
    "    print('Epoch {}, loss {}, accuracy {}'.format(epoch, loss, accuracy))"
   ]
  },
  {
   "cell_type": "markdown",
   "metadata": {},
   "source": [
    "### Visualisation"
   ]
  },
  {
   "cell_type": "code",
   "execution_count": null,
   "metadata": {},
   "outputs": [],
   "source": [
    "fig, ((ax1, ax2)) = plt.subplots(1, 2, figsize=(11, 5));\n",
    "ttl = ax1.text(1, 1.05, '', transform = ax1.transAxes, va='center');\n",
    "\n",
    "def init():\n",
    "    ax1.imshow(img[0], cmap='RdBu', vmin=-0.1, vmax=1.1);\n",
    "    plt.setp(ax1.get_xticklabels(), visible=False);\n",
    "    plt.setp(ax1.get_yticklabels(), visible=False);\n",
    "\n",
    "    ax2.plot(0, error_v[0], 'r');\n",
    "    ax2.set_xlim(0, n_epochs);\n",
    "    ax2.set_ylim(0, np.max(error_v));\n",
    "\n",
    "def animate(i):\n",
    "    ax1.get_images()[0].set_array(img[i]);\n",
    "    ax2.get_lines()[0].set_data(np.arange(0, i), error_v[0:i]);\n",
    "    ttl.set_text('Epoch {}'.format(i));\n",
    "\n",
    "ani = animation.FuncAnimation(fig, animate, init_func=init, frames=img.shape[0]);\n",
    "ani\n"
   ]
  },
  {
   "cell_type": "code",
   "execution_count": null,
   "metadata": {},
   "outputs": [],
   "source": []
  }
 ],
 "metadata": {
  "kernelspec": {
   "display_name": "Python 3 (ipykernel)",
   "language": "python",
   "name": "python3"
  },
  "language_info": {
   "codemirror_mode": {
    "name": "ipython",
    "version": 3
   },
   "file_extension": ".py",
   "mimetype": "text/x-python",
   "name": "python",
   "nbconvert_exporter": "python",
   "pygments_lexer": "ipython3",
   "version": "3.12.0"
  }
 },
 "nbformat": 4,
 "nbformat_minor": 4
}

{
 "cells": [
  {
   "cell_type": "markdown",
   "id": "1cef193a-1f6c-4ab8-a8a0-c1f38ccc14a7",
   "metadata": {},
   "source": [
    "# Classification\n",
    "The task is to identify which category an object belongs to."
   ]
  },
  {
   "cell_type": "code",
   "execution_count": null,
   "id": "995c303c-f741-48c5-aaf5-97671d91687e",
   "metadata": {},
   "outputs": [],
   "source": [
    "import tensorflow as tf\n",
    "import matplotlib.pyplot as plt\n",
    "import numpy as np"
   ]
  },
  {
   "cell_type": "markdown",
   "id": "d13ccc1f-9e12-4e15-9c94-38285f538294",
   "metadata": {},
   "source": [
    "### Let's try to create an ML model for recognizing handwritten numbers. We download the data first."
   ]
  },
  {
   "cell_type": "code",
   "execution_count": null,
   "id": "690f99f7-72e2-4356-9a8f-bbcc67fcc88b",
   "metadata": {},
   "outputs": [],
   "source": [
    "# Import MNIST data\n",
    "mnist = tf.keras.datasets.mnist\n",
    "\n",
    "(x_train, y_train), (x_test, y_test) = mnist.load_data()\n",
    "x_train, x_test = x_train / 255.0, x_test / 255.0"
   ]
  },
  {
   "cell_type": "markdown",
   "id": "53f07ab0-1892-4966-a105-88febf3a6dfa",
   "metadata": {},
   "source": [
    "### Now we can see what our task is. From the small greyscale pictures, decide what number is written on it. The correct answer is marked here as `target`. Since we know the correct answer, we can used some method based on the supervised learning."
   ]
  },
  {
   "cell_type": "code",
   "execution_count": null,
   "id": "f8380697-9531-4f7c-b792-54a54dd5d73d",
   "metadata": {},
   "outputs": [],
   "source": [
    "plt.figure(figsize=(10, 10))\n",
    "for idx in range(25):\n",
    "    plt.subplot(5, 5, idx+1)\n",
    "    fig = plt.imshow(x_train[idx], cmap='gray')\n",
    "    plt.title('Target {}'.format(y_train[idx]))\n",
    "    fig.axes.get_xaxis().set_visible(False)\n",
    "    fig.axes.get_yaxis().set_visible(False)"
   ]
  },
  {
   "cell_type": "markdown",
   "id": "f1802b16-feed-4e20-baf2-b08d5dfca032",
   "metadata": {},
   "source": [
    "### We will use the Neural Network. First we create a simple neural network a model, here using the Tensorflow library."
   ]
  },
  {
   "cell_type": "code",
   "execution_count": null,
   "id": "b787ecb3-4bb6-45ac-89d4-202b85b78ee5",
   "metadata": {},
   "outputs": [],
   "source": [
    "model = tf.keras.models.Sequential([tf.keras.layers.Flatten(),\n",
    "                                    tf.keras.layers.Dense(256),\n",
    "                                    tf.keras.layers.Dropout(0.25),\n",
    "                                    tf.keras.layers.Dense(10, activation='softmax')\n",
    "                                   ])\n",
    "\n",
    "model.compile(optimizer='adam',\n",
    "              loss='sparse_categorical_crossentropy',\n",
    "              metrics=['accuracy'])\n"
   ]
  },
  {
   "cell_type": "markdown",
   "id": "c314014c-252b-4f31-aa20-4f24e995b78b",
   "metadata": {},
   "source": [
    "### We now train the created model on the training data and then evaluate it on the test data."
   ]
  },
  {
   "cell_type": "code",
   "execution_count": null,
   "id": "0b633f74-b2aa-4e49-bb19-8c1b4a9ecd21",
   "metadata": {},
   "outputs": [],
   "source": [
    "model.fit(x_train, y_train, epochs=20, batch_size=512, shuffle=True)\n",
    "\n",
    "model.evaluate(x_test,  y_test, verbose=2)"
   ]
  },
  {
   "cell_type": "markdown",
   "id": "ff36015b-5c21-4d25-aae8-fd083d3911ca",
   "metadata": {},
   "source": [
    "### Now we can see the resulting classification, the caption above the image we are trying to classify is in the format {correct answer} - {prediction}"
   ]
  },
  {
   "cell_type": "code",
   "execution_count": null,
   "id": "05908206-4f4a-4640-bd37-60999016c662",
   "metadata": {},
   "outputs": [],
   "source": [
    "plt.figure(figsize=(10, 10))\n",
    "\n",
    "start = 100\n",
    "for idx in range(25):\n",
    "    plt.subplot(5,5,idx+1)\n",
    "    fig = plt.imshow(x_test[idx+start], cmap='gray')\n",
    "#     print(model.predict(x_test[idx+start].reshape(1, 28, 28)), np.argmax(model.predict(x_test[idx+start].reshape(1, 28, 28))))\n",
    "    plt.title('{} - {}'.format(y_test[idx+start], np.argmax(model.predict(x_test[idx+start].reshape(1, 28, 28)))))\n",
    "    fig.axes.get_xaxis().set_visible(False)\n",
    "    fig.axes.get_yaxis().set_visible(False)"
   ]
  },
  {
   "cell_type": "markdown",
   "id": "9b66dd0f-b363-4be4-bf59-d7c42c174ea3",
   "metadata": {},
   "source": [
    "### In the figure below we can isnpect a few incorrect predictions"
   ]
  },
  {
   "cell_type": "code",
   "execution_count": null,
   "id": "e4c7d078-215d-48ff-a259-f02068feffa6",
   "metadata": {},
   "outputs": [],
   "source": [
    "ypredict = np.argmax(model.predict(x_test), axis=1)\n",
    "wrong = np.where(ypredict-y_test)[0]\n",
    "plt.figure(figsize=(10, 10))\n",
    "\n",
    "\n",
    "start = 100\n",
    "for idx in range(25):\n",
    "    plt.subplot(5,5,idx+1)\n",
    "    fig = plt.imshow(x_test[wrong[idx]], cmap='gray')\n",
    "    plt.title('{} - {}'.format(y_test[wrong[idx]], ypredict[wrong[idx]]))\n",
    "    fig.axes.get_xaxis().set_visible(False)\n",
    "    fig.axes.get_yaxis().set_visible(False)\n"
   ]
  }
 ],
 "metadata": {
  "kernelspec": {
   "display_name": "Python 3 (ipykernel)",
   "language": "python",
   "name": "python3"
  },
  "language_info": {
   "codemirror_mode": {
    "name": "ipython",
    "version": 3
   },
   "file_extension": ".py",
   "mimetype": "text/x-python",
   "name": "python",
   "nbconvert_exporter": "python",
   "pygments_lexer": "ipython3",
   "version": "3.11.5"
  }
 },
 "nbformat": 4,
 "nbformat_minor": 5
}

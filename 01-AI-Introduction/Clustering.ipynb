{
 "cells": [
  {
   "cell_type": "markdown",
   "id": "2227d182-b1f3-4700-a12f-8fc7e6c9074c",
   "metadata": {},
   "source": [
    "# Clustering\n",
    "The task is grouping of similar objects into sets. It is the unsupervised learning technique."
   ]
  },
  {
   "cell_type": "code",
   "execution_count": null,
   "id": "b36bdec1-c149-473c-a411-1a7c6b4d586d",
   "metadata": {},
   "outputs": [],
   "source": [
    "import numpy as np\n",
    "from sklearn.datasets import make_blobs\n",
    "from sklearn.cluster import KMeans\n",
    "from sklearn.metrics.pairwise import pairwise_distances_argmin\n",
    "import matplotlib.pyplot as plt"
   ]
  },
  {
   "cell_type": "markdown",
   "id": "ccad1c17-c0d1-4542-a778-9c74159f32ba",
   "metadata": {},
   "source": [
    "### As the first step we generate some random data of points in 2D"
   ]
  },
  {
   "cell_type": "code",
   "execution_count": null,
   "id": "0beb52e8-b289-4441-8908-5e9a5ecc4764",
   "metadata": {},
   "outputs": [],
   "source": [
    "np.random.seed(0)\n",
    "\n",
    "batch_size = 45\n",
    "centers = [[1, 1], [-1, -1], [1, -1]]\n",
    "n_clusters = len(centers)\n",
    "X, labels_true = make_blobs(n_samples=3000, centers=centers, cluster_std=0.7)"
   ]
  },
  {
   "cell_type": "code",
   "execution_count": null,
   "id": "6c5fdd30-b576-44ed-9075-2c5aa0e4fca3",
   "metadata": {},
   "outputs": [],
   "source": [
    "fig = plt.figure()\n",
    "\n",
    "ax = fig.add_subplot(1, 1, 1)\n",
    "ax.plot(X[:, 0], X[:, 1], \"w\", markerfacecolor='k', marker=\".\")\n",
    "ax.set_title(\"Data\")\n",
    "ax.set_xticks(())\n",
    "ax.set_yticks(());\n"
   ]
  },
  {
   "cell_type": "markdown",
   "id": "66950dee-5d34-45a6-89ba-5f495c968402",
   "metadata": {},
   "source": [
    "### Now we use the K-Means clustering algorithm to find 3 cluster centers"
   ]
  },
  {
   "cell_type": "code",
   "execution_count": null,
   "id": "339a6997-fe72-4b70-8a5f-d731962df633",
   "metadata": {},
   "outputs": [],
   "source": [
    "k_means = KMeans(init=\"k-means++\", n_clusters=3, n_init=10)\n",
    "k_means.fit(X)"
   ]
  },
  {
   "cell_type": "markdown",
   "id": "65006b66-c880-4a17-8998-d4dfc40a7d52",
   "metadata": {},
   "source": [
    "### We will use the pairwise distances metric to assign each point of the dataset to the center"
   ]
  },
  {
   "cell_type": "code",
   "execution_count": null,
   "id": "6ba42235-ef9d-47a6-b43e-506604ae194f",
   "metadata": {},
   "outputs": [],
   "source": [
    "k_means_cluster_centers = k_means.cluster_centers_\n",
    "k_means_labels = pairwise_distances_argmin(X, k_means_cluster_centers)"
   ]
  },
  {
   "cell_type": "code",
   "execution_count": null,
   "id": "0a5d62ba-4796-4d5a-b3d5-91a3a3e5f8de",
   "metadata": {},
   "outputs": [],
   "source": [
    "fig = plt.figure()\n",
    "colors = [\"#4EACC5\", \"#FF9C34\", \"#4E9A06\"]\n",
    "\n",
    "ax = fig.add_subplot(1, 1, 1)\n",
    "for k, col in zip(range(n_clusters), colors):\n",
    "    my_members = k_means_labels == k\n",
    "    cluster_center = k_means_cluster_centers[k]\n",
    "    ax.plot(X[my_members, 0], X[my_members, 1], \"w\", markerfacecolor=col, marker=\".\")\n",
    "    ax.plot(\n",
    "        cluster_center[0],\n",
    "        cluster_center[1],\n",
    "        \"o\",\n",
    "        markerfacecolor=col,\n",
    "        markeredgecolor=\"k\",\n",
    "        markersize=6,\n",
    "    )\n",
    "ax.set_title(\"KMeans\")\n",
    "ax.set_xticks(())\n",
    "ax.set_yticks(());\n"
   ]
  },
  {
   "cell_type": "code",
   "execution_count": null,
   "id": "5b7dce86-d84d-4628-9346-e27c491162cb",
   "metadata": {},
   "outputs": [],
   "source": []
  }
 ],
 "metadata": {
  "kernelspec": {
   "display_name": "Python 3 (ipykernel)",
   "language": "python",
   "name": "python3"
  },
  "language_info": {
   "codemirror_mode": {
    "name": "ipython",
    "version": 3
   },
   "file_extension": ".py",
   "mimetype": "text/x-python",
   "name": "python",
   "nbconvert_exporter": "python",
   "pygments_lexer": "ipython3",
   "version": "3.11.5"
  }
 },
 "nbformat": 4,
 "nbformat_minor": 5
}

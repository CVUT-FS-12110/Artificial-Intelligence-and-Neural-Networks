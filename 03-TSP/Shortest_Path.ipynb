{
  "nbformat": 4,
  "nbformat_minor": 0,
  "metadata": {
    "colab": {
      "provenance": []
    },
    "kernelspec": {
      "name": "python3",
      "display_name": "Python 3"
    },
    "language_info": {
      "name": "python"
    }
  },
  "cells": [
    {
      "cell_type": "code",
      "execution_count": null,
      "metadata": {
        "id": "1YRwDbQ1D7ax"
      },
      "outputs": [],
      "source": [
        "import heapq\n",
        "import networkx as nx\n",
        "import matplotlib.pyplot as plt"
      ]
    },
    {
      "cell_type": "code",
      "source": [
        "# Definition of the graph\n",
        "graph = {\n",
        "    'A': [('B', 4), ('C', 1)],\n",
        "    'B': [('D', 1), ('C', 2)],\n",
        "    'C': [('E', 8), ('D', 5)],\n",
        "    'D': [('E', 1)],\n",
        "    'E': [('C', 2), ('D', 1)],\n",
        "}"
      ],
      "metadata": {
        "id": "FyN7Lg-iEIk0"
      },
      "execution_count": null,
      "outputs": []
    },
    {
      "cell_type": "code",
      "source": [
        "def dijkstra_goal(graph, start, goal):\n",
        "    \"\"\"\n",
        "    Performs the Dijkstra's search algorithm to find shortests paths from start to goal.\n",
        "\n",
        "    Parameters:\n",
        "        graph (dict): The graph represented as an adjacency list.\n",
        "                      Each key is a node, and its value is a list of tuples (neighbor, weight).\n",
        "        start (hashable): The starting node.\n",
        "        goal (hashable): The goal node.\n",
        "        heuristic (dict): A dictionary mapping nodes to their heuristic values (estimated cost to the goal).\n",
        "\n",
        "    Returns:\n",
        "        path (list): The shortest path from start to goal.\n",
        "        cost (float): The total cost of the path.\n",
        "    \"\"\"\n",
        "    distances = {node: float('inf') for node in graph}\n",
        "    distances[start] = 0\n",
        "\n",
        "    priority_queue = [(0, start, [start])]\n",
        "\n",
        "    visited = set()\n",
        "\n",
        "    while priority_queue:\n",
        "        current_distance, current_node, path = heapq.heappop(priority_queue)\n",
        "\n",
        "        if current_node in visited:\n",
        "            continue\n",
        "        visited.add(current_node)\n",
        "\n",
        "        print(f\"Current node: {current_node}, Distance: {current_distance}, Path: {path}\")\n",
        "\n",
        "        if current_node == goal:\n",
        "            print(\"Goal node reached.\")\n",
        "            return path, current_distance\n",
        "\n",
        "        for neighbor, weight in graph[current_node]:\n",
        "            distance = current_distance + weight\n",
        "            if distance < distances[neighbor]:\n",
        "                distances[neighbor] = distance\n",
        "                heapq.heappush(priority_queue, (distance, neighbor, path + [neighbor]))\n",
        "                print(f\"  Updating node: {neighbor}, New distance: {distance}\")\n",
        "\n",
        "    return None, float('inf')"
      ],
      "metadata": {
        "id": "COLkpe9LEzV9"
      },
      "execution_count": null,
      "outputs": []
    },
    {
      "cell_type": "code",
      "source": [
        "path, cost = dijkstra_goal(graph, 'A', 'E')\n",
        "\n",
        "print(\"\\nShortest path:\", path)\n",
        "print(\"Total cost:\", cost)"
      ],
      "metadata": {
        "id": "sBJf3yhkE6qU"
      },
      "execution_count": null,
      "outputs": []
    },
    {
      "cell_type": "code",
      "source": [
        "def dijkstra_all(graph, start):\n",
        "    \"\"\"\n",
        "    Performs the Dijkstra's search algorithm to find shortests paths from start to all nodes.\n",
        "\n",
        "    Parameters:\n",
        "        graph (dict): The graph represented as an adjacency list.\n",
        "                      Each key is a node, and its value is a list of tuples (neighbor, weight).\n",
        "        start (hashable): The starting node.\n",
        "\n",
        "    Returns:\n",
        "        cost (list): The total cost of the path from start do nodes.\n",
        "        path (list): The paths from start to all nodes.\n",
        "    \"\"\"\n",
        "\n",
        "    distances = {node: float('inf') for node in graph}\n",
        "    distances[start] = 0\n",
        "\n",
        "    paths = {node: [] for node in graph}\n",
        "    paths[start] = [start]\n",
        "\n",
        "    priority_queue = [(0, start)]\n",
        "\n",
        "    visited = set()\n",
        "\n",
        "    while priority_queue:\n",
        "        current_distance, current_node = heapq.heappop(priority_queue)\n",
        "\n",
        "        if current_node in visited:\n",
        "            continue\n",
        "        visited.add(current_node)\n",
        "\n",
        "        print(f\"Current node: {current_node}, Distance: {current_distance}, Path: {paths[current_node]}\")\n",
        "\n",
        "        for neighbor, weight in graph[current_node]:\n",
        "            distance = current_distance + weight\n",
        "            if distance < distances[neighbor]:\n",
        "                distances[neighbor] = distance\n",
        "                paths[neighbor] = paths[current_node] + [neighbor]\n",
        "                heapq.heappush(priority_queue, (distance, neighbor))\n",
        "                print(f\"  Updating node: {neighbor}, New distance: {distance}, Path: {paths[neighbor]}\")\n",
        "\n",
        "    return distances, paths"
      ],
      "metadata": {
        "id": "8lvYtIQ5FAIU"
      },
      "execution_count": null,
      "outputs": []
    },
    {
      "cell_type": "code",
      "source": [
        "# Running the algorithm\n",
        "distances, paths = dijkstra_all(graph, 'A')\n",
        "\n",
        "# Printing the shortest distances and paths\n",
        "print(\"\\nShortest distances from 'A' to other vertices:\")\n",
        "for node in distances:\n",
        "    print(f\"Node {node}: distance = {distances[node]}, path = {paths[node]}\")\n"
      ],
      "metadata": {
        "id": "FI8KYJ8qGJB8"
      },
      "execution_count": null,
      "outputs": []
    },
    {
      "cell_type": "code",
      "source": [
        "def a_star(graph, start, goal, h):\n",
        "    heap = []\n",
        "    heapq.heappush(heap, (h(start), 0, start, [start]))\n",
        "    visited = set()\n",
        "\n",
        "    while heap:\n",
        "        estimated_cost, current_cost, current_node, path = heapq.heappop(heap)\n",
        "\n",
        "        if current_node == goal:\n",
        "            return path\n",
        "\n",
        "        if current_node in visited:\n",
        "            continue\n",
        "\n",
        "        visited.add(current_node)\n",
        "\n",
        "        for neighbor, weight in graph[current_node]:\n",
        "            if neighbor not in visited:\n",
        "                total_cost = current_cost + weight\n",
        "                estimated_total = total_cost + h(neighbor)\n",
        "                heapq.heappush(heap, (estimated_total, total_cost, neighbor, path + [neighbor]))"
      ],
      "metadata": {
        "id": "p10diIryGJ0F"
      },
      "execution_count": null,
      "outputs": []
    },
    {
      "cell_type": "code",
      "source": [
        "def a_star(graph, start, goal, heuristic):\n",
        "    \"\"\"\n",
        "    Performs the A* search algorithm with verbose output.\n",
        "\n",
        "    Parameters:\n",
        "        graph (dict): The graph represented as an adjacency list.\n",
        "                      Each key is a node, and its value is a list of tuples (neighbor, weight).\n",
        "        start (hashable): The starting node.\n",
        "        goal (hashable): The goal node.\n",
        "        heuristic (dict): A dictionary mapping nodes to their heuristic values (estimated cost to the goal).\n",
        "\n",
        "    Returns:\n",
        "        path (list): The shortest path from start to goal.\n",
        "        cost (float): The total cost of the path.\n",
        "    \"\"\"\n",
        "    # Initialize the open set (priority queue) and closed set\n",
        "    open_set = []\n",
        "    heapq.heappush(open_set, (heuristic[start], 0, start, [start]))\n",
        "    closed_set = set()\n",
        "\n",
        "    print(f\"Starting A* algorithm from node '{start}' to node '{goal}'.\")\n",
        "\n",
        "    while open_set:\n",
        "        # Get the node with the lowest estimated total cost\n",
        "        estimated_total_cost, g_cost, current_node, path = heapq.heappop(open_set)\n",
        "\n",
        "        print(f\"\\nCurrent node: {current_node}\")\n",
        "        print(f\"  Path so far: {path}\")\n",
        "        print(f\"  Cost so far (g): {g_cost}\")\n",
        "        print(f\"  Estimated total cost (f): {estimated_total_cost}\")\n",
        "\n",
        "        if current_node == goal:\n",
        "            print(\"\\nGoal node reached!\")\n",
        "            print(f\"Final path: {path}\")\n",
        "            print(f\"Total cost: {g_cost}\")\n",
        "            return path, g_cost\n",
        "\n",
        "        if current_node in closed_set:\n",
        "            print(f\"Node '{current_node}' has already been evaluated. Skipping.\")\n",
        "            continue\n",
        "\n",
        "        closed_set.add(current_node)\n",
        "\n",
        "        # Explore neighbors\n",
        "        for neighbor, weight in graph[current_node]:\n",
        "            if neighbor in closed_set:\n",
        "                print(f\"  Neighbor '{neighbor}' has already been evaluated. Skipping.\")\n",
        "                continue\n",
        "\n",
        "            tentative_g_cost = g_cost + weight\n",
        "            f_cost = tentative_g_cost + heuristic[neighbor]\n",
        "\n",
        "            print(f\"  Evaluating neighbor '{neighbor}':\")\n",
        "            print(f\"    Path cost to neighbor (g): {tentative_g_cost}\")\n",
        "            print(f\"    Heuristic estimate to goal (h): {heuristic[neighbor]}\")\n",
        "            print(f\"    Estimated total cost (f): {f_cost}\")\n",
        "\n",
        "            # Add neighbor to the open set\n",
        "            heapq.heappush(open_set, (f_cost, tentative_g_cost, neighbor, path + [neighbor]))\n",
        "            print(f\"    Neighbor '{neighbor}' added to open set with priority {f_cost}.\")\n",
        "\n",
        "    print(\"\\nNo path found to the goal.\")\n",
        "    return None, float('inf')"
      ],
      "metadata": {
        "id": "wNwwwgAIGXQl"
      },
      "execution_count": null,
      "outputs": []
    },
    {
      "cell_type": "code",
      "source": [
        "# Define the heuristic values for each node\n",
        "heuristic = {\n",
        "    'A': 4,\n",
        "    'B': 2,\n",
        "    'C': 2,\n",
        "    'D': 1,\n",
        "    'E': 0,\n",
        "}"
      ],
      "metadata": {
        "id": "67fJhoxXGtSF"
      },
      "execution_count": null,
      "outputs": []
    },
    {
      "cell_type": "code",
      "source": [
        "path, cost = a_star(graph, 'A', 'E', heuristic)"
      ],
      "metadata": {
        "id": "M_YtlznLG5AN"
      },
      "execution_count": null,
      "outputs": []
    },
    {
      "cell_type": "code",
      "source": [],
      "metadata": {
        "id": "Vz8xCLspG8p1"
      },
      "execution_count": null,
      "outputs": []
    }
  ]
}
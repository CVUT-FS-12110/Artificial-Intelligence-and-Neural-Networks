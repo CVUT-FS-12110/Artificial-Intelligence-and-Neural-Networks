{
 "cells": [
  {
   "cell_type": "code",
   "execution_count": 62,
   "metadata": {
    "collapsed": true,
    "ExecuteTime": {
     "end_time": "2023-10-11T08:03:58.926234711Z",
     "start_time": "2023-10-11T08:03:58.922808132Z"
    }
   },
   "outputs": [],
   "source": [
    "import numpy as np\n",
    "from itertools import permutations\n",
    "from time import perf_counter"
   ]
  },
  {
   "cell_type": "code",
   "execution_count": 63,
   "outputs": [],
   "source": [
    "def compute_distance(distance_matrix: np.ndarray, path: list) -> tuple[int, np.ndarray]:\n",
    "    ind_y = path\n",
    "    ind_x = path[1:] + path[:1]\n",
    "    return distance_matrix[ind_y, ind_x].sum(), distance_matrix[ind_y, ind_x]"
   ],
   "metadata": {
    "collapsed": false,
    "ExecuteTime": {
     "end_time": "2023-10-11T08:03:59.410130636Z",
     "start_time": "2023-10-11T08:03:59.383627156Z"
    }
   }
  },
  {
   "cell_type": "code",
   "execution_count": 74,
   "outputs": [],
   "source": [
    "def brute_force_tsp(distance_matrix: np.ndarray, start: int) -> tuple[list[int], float]:\n",
    "    points = list(range(distance_matrix.shape[0]))\n",
    "    points.remove(start)\n",
    "\n",
    "    best_distance = np.inf\n",
    "    best_permutation = []\n",
    "\n",
    "    start_time = perf_counter()\n",
    "\n",
    "    # BRUTE FORCE ALGORITHM LOGIC HERE\n",
    "\n",
    "    compute_time = perf_counter() - start_time\n",
    "\n",
    "    return best_permutation, compute_time"
   ],
   "metadata": {
    "collapsed": false,
    "ExecuteTime": {
     "end_time": "2023-10-11T08:04:27.746941255Z",
     "start_time": "2023-10-11T08:04:27.723922812Z"
    }
   }
  },
  {
   "cell_type": "code",
   "execution_count": 75,
   "outputs": [],
   "source": [
    "def greedy_tsp(distance_matrix: np.ndarray, start: int) -> tuple[list[int], float]:\n",
    "    points = list(range(distance_matrix.shape[0]))\n",
    "    points.remove(start)\n",
    "\n",
    "    visited = [start]\n",
    "    next_point = start\n",
    "\n",
    "    start_time = perf_counter()\n",
    "\n",
    "    # GREEDY ALGORITHM LOGIC HERE\n",
    "\n",
    "    compute_time = perf_counter() - start_time\n",
    "\n",
    "    return visited, compute_time"
   ],
   "metadata": {
    "collapsed": false,
    "ExecuteTime": {
     "end_time": "2023-10-11T08:04:28.023939752Z",
     "start_time": "2023-10-11T08:04:28.006825855Z"
    }
   }
  },
  {
   "cell_type": "code",
   "execution_count": 76,
   "outputs": [],
   "source": [
    "distance_matrix = np.array([[0, 5, 4, 10],\n",
    "                            [5, 0, 8, 5],\n",
    "                            [4, 8, 0, 3],\n",
    "                            [10, 5, 3, 0]])\n",
    "start_point = 0"
   ],
   "metadata": {
    "collapsed": false,
    "ExecuteTime": {
     "end_time": "2023-10-11T08:04:28.239784558Z",
     "start_time": "2023-10-11T08:04:28.222676739Z"
    }
   }
  },
  {
   "cell_type": "code",
   "execution_count": 77,
   "outputs": [
    {
     "name": "stdout",
     "output_type": "stream",
     "text": [
      "Path: [0], Distance: (0, array([], dtype=int64)), Compute time: 1.8700029613683e-07 s\n"
     ]
    }
   ],
   "source": [
    "start = perf_counter()\n",
    "path, compute_time = brute_force_tsp(distance_matrix, start_point)\n",
    "print(f'Path: {path+[start_point]}, Distance: {compute_distance(distance_matrix, path)}, Compute time: {compute_time} s')"
   ],
   "metadata": {
    "collapsed": false,
    "ExecuteTime": {
     "end_time": "2023-10-11T08:04:28.413236021Z",
     "start_time": "2023-10-11T08:04:28.407212501Z"
    }
   }
  },
  {
   "cell_type": "code",
   "execution_count": 78,
   "outputs": [
    {
     "name": "stdout",
     "output_type": "stream",
     "text": [
      "Path: [0, 0], Distance: (0, array([0])), Compute time: 1.4700071915285662e-07 s\n"
     ]
    }
   ],
   "source": [
    "start = perf_counter()\n",
    "path, compute_time = greedy_tsp(distance_matrix, start_point)\n",
    "print(f'Path: {path+[start_point]}, Distance: {compute_distance(distance_matrix, path)}, Compute time: {compute_time} s')\n"
   ],
   "metadata": {
    "collapsed": false,
    "ExecuteTime": {
     "end_time": "2023-10-11T08:04:29.306587160Z",
     "start_time": "2023-10-11T08:04:29.295780136Z"
    }
   }
  },
  {
   "cell_type": "code",
   "execution_count": 73,
   "outputs": [],
   "source": [],
   "metadata": {
    "collapsed": false,
    "ExecuteTime": {
     "end_time": "2023-10-11T08:04:15.569754457Z",
     "start_time": "2023-10-11T08:04:15.502749045Z"
    }
   }
  },
  {
   "cell_type": "code",
   "execution_count": null,
   "outputs": [],
   "source": [],
   "metadata": {
    "collapsed": false
   }
  }
 ],
 "metadata": {
  "kernelspec": {
   "display_name": "Python 3",
   "language": "python",
   "name": "python3"
  },
  "language_info": {
   "codemirror_mode": {
    "name": "ipython",
    "version": 2
   },
   "file_extension": ".py",
   "mimetype": "text/x-python",
   "name": "python",
   "nbconvert_exporter": "python",
   "pygments_lexer": "ipython2",
   "version": "2.7.6"
  }
 },
 "nbformat": 4,
 "nbformat_minor": 0
}

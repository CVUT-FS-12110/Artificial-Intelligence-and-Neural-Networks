{
  "nbformat": 4,
  "nbformat_minor": 0,
  "metadata": {
    "colab": {
      "provenance": []
    },
    "kernelspec": {
      "name": "python3",
      "display_name": "Python 3"
    },
    "language_info": {
      "name": "python"
    }
  },
  "cells": [
    {
      "cell_type": "code",
      "execution_count": 29,
      "metadata": {
        "id": "vQY85qKDdnIb"
      },
      "outputs": [],
      "source": [
        "import matplotlib.pyplot as plt\n",
        "import networkx as nx\n",
        "import networkx.algorithms.approximation as nx_app\n",
        "import math\n",
        "from time import perf_counter\n",
        "import numpy as np\n",
        "import itertools\n",
        "import pandas as pd\n"
      ]
    },
    {
      "cell_type": "code",
      "source": [
        "def tsp_graph(cities: int = 20):\n",
        "    G = nx.random_geometric_graph(cities, radius=0.4, seed=3)\n",
        "    pos = nx.get_node_attributes(G, \"pos\")\n",
        "\n",
        "    # Depot should be at (0,0)\n",
        "    pos[0] = (0.5, 0.5)\n",
        "\n",
        "    # H = G.copy()\n",
        "\n",
        "    distance_matrix = np.zeros((cities, cities))\n",
        "    # Calculating the distances between the nodes as edge's weight.\n",
        "    for i in range(len(pos)):\n",
        "        for j in range(i + 1, len(pos)):\n",
        "            dist = math.hypot(pos[i][0] - pos[j][0], pos[i][1] - pos[j][1])\n",
        "            distance_matrix[i, j] = dist\n",
        "            G.add_edge(i, j, weight=dist)\n",
        "\n",
        "    distance_matrix += distance_matrix.T\n",
        "\n",
        "    return G, pos, distance_matrix\n"
      ],
      "metadata": {
        "id": "umqpN8WNejvC"
      },
      "execution_count": 22,
      "outputs": []
    },
    {
      "cell_type": "code",
      "source": [
        "def tsp_graph_vis(G, pos, path=[]):\n",
        "    # Draw edges if not path given\n",
        "\n",
        "    if not path:\n",
        "      nx.draw_networkx_edges(G, pos, edge_color=\"blue\", width=0.5)\n",
        "\n",
        "    # path edge list\n",
        "    edge_list = list(nx.utils.pairwise(path))\n",
        "\n",
        "    # Draw the route\n",
        "    nx.draw_networkx(\n",
        "        G,\n",
        "        pos,\n",
        "        with_labels=True,\n",
        "        edgelist=edge_list,\n",
        "        node_color = 'r',\n",
        "        edge_color=\"red\",\n",
        "        node_size=200,\n",
        "        width=3,\n",
        "    )\n",
        "\n"
      ],
      "metadata": {
        "id": "Tl2MJAo_f1KT"
      },
      "execution_count": 69,
      "outputs": []
    },
    {
      "cell_type": "code",
      "source": [
        "def compute_distance(distance_matrix: np.ndarray, path: list) -> tuple[int, np.ndarray]:\n",
        "    ind_y = path\n",
        "    ind_x = path[1:] + path[:1]\n",
        "    return distance_matrix[ind_y, ind_x].sum(), distance_matrix[ind_y, ind_x]"
      ],
      "metadata": {
        "id": "yRGLQ1jfj3no"
      },
      "execution_count": 43,
      "outputs": []
    },
    {
      "cell_type": "code",
      "source": [
        "start_point = 0\n",
        "G, pos, distance_matrix  = tsp_graph(6)\n",
        "tsp_graph_vis(G, pos)\n",
        "pd.DataFrame(distance_matrix)"
      ],
      "metadata": {
        "id": "nw8uJKHxfgKK"
      },
      "execution_count": null,
      "outputs": []
    },
    {
      "cell_type": "code",
      "source": [
        "def brute_force_tsp(distance_matrix: np.ndarray, start: int) -> tuple[list[int], float]:\n",
        "    points = list(range(distance_matrix.shape[0]))\n",
        "    points.remove(start)\n",
        "\n",
        "    best_distance = np.inf\n",
        "    best_permutation = []\n",
        "\n",
        "    start_time = perf_counter()\n",
        "\n",
        "    for perm in itertools.permutations(points):\n",
        "        distance = distance_matrix[start, perm[0]]  # Distance from start to first point\n",
        "        for i in range(len(perm) - 1):\n",
        "            distance += distance_matrix[perm[i], perm[i + 1]]  # Distance between intermediate points\n",
        "        distance += distance_matrix[perm[-1], start]  # Distance from last point back to start\n",
        "\n",
        "        if distance < best_distance:\n",
        "            best_distance = distance\n",
        "            best_permutation = [start] + list(perm) + [start]\n",
        "\n",
        "    compute_time = perf_counter() - start_time\n",
        "\n",
        "    return best_permutation, compute_time"
      ],
      "metadata": {
        "id": "CunhwswzfPAz"
      },
      "execution_count": 31,
      "outputs": []
    },
    {
      "cell_type": "code",
      "source": [
        "path, compute_time = brute_force_tsp(distance_matrix, 0)\n",
        "print(\"Optimal path: \", path, \"Distance: \", compute_distance(distance_matrix, path)[0], \"Time: \", compute_time, 's')\n",
        "tsp_graph_vis(G, pos, path)\n",
        "plt.title(f'Optimal, distance: {compute_distance(distance_matrix, path)[0]}')"
      ],
      "metadata": {
        "id": "OFRDDsDeie8Y"
      },
      "execution_count": null,
      "outputs": []
    },
    {
      "cell_type": "code",
      "source": [
        "# Brute force algorithm complexity\n",
        "\n",
        "times = []\n",
        "for i in range(2, 12):\n",
        "  _, _, distance_matrix_test  = tsp_graph(i)\n",
        "  _, compute_time = brute_force_tsp(distance_matrix_test, 0)\n",
        "  print(f'Cities: {i}, computation time: {compute_time} s')\n",
        "  times.append(compute_time)\n",
        "plt.plot(range(2, 12), times)"
      ],
      "metadata": {
        "id": "2xPabeF3jCeQ"
      },
      "execution_count": null,
      "outputs": []
    },
    {
      "cell_type": "code",
      "source": [
        "def greedy_tsp(distance_matrix: np.ndarray, start: int) -> tuple[list[int], float]:\n",
        "    points = list(range(distance_matrix.shape[0]))\n",
        "    points.remove(start)\n",
        "\n",
        "    visited = [start]\n",
        "    next_point = start\n",
        "\n",
        "    start_time = perf_counter()\n",
        "\n",
        "    while points:\n",
        "        distances = distance_matrix[next_point, points]\n",
        "        min_distance_index = np.argmin(distances)\n",
        "        next_point = points.pop(min_distance_index)\n",
        "        visited.append(next_point)\n",
        "\n",
        "    visited.append(start)  # Return to the starting point\n",
        "\n",
        "    compute_time = perf_counter() - start_time\n",
        "\n",
        "    return visited, compute_time"
      ],
      "metadata": {
        "id": "gbGMgb3fjfcn"
      },
      "execution_count": 41,
      "outputs": []
    },
    {
      "cell_type": "code",
      "source": [
        "# Greedy algorithm\n",
        "\n",
        "path, compute_time = greedy_tsp(distance_matrix, 0)\n",
        "print(\"Path: \", path, \"Distance: \", compute_distance(distance_matrix, path)[0], \"Time: \", compute_time, 's')\n",
        "tsp_graph_vis(G, pos, path)\n",
        "plt.title(f'Greedy, distance: {compute_distance(distance_matrix, path)[0]}')"
      ],
      "metadata": {
        "id": "0-rVm1wzjpCU"
      },
      "execution_count": null,
      "outputs": []
    },
    {
      "cell_type": "code",
      "source": [
        "# Greedy force algorithm complexity\n",
        "\n",
        "times = []\n",
        "for i in range(2, 30):\n",
        "  _, _, distance_matrix_test  = tsp_graph(i)\n",
        "  _, compute_time = greedy_tsp(distance_matrix_test, 0)\n",
        "  print(f'Cities: {i}, computation time: {compute_time} s')\n",
        "  times.append(compute_time)\n",
        "plt.plot(range(2, 30), times)"
      ],
      "metadata": {
        "id": "sl4jJ0w1kM2c"
      },
      "execution_count": null,
      "outputs": []
    },
    {
      "cell_type": "code",
      "source": [
        "def mst_approx_tsp(distance_matrix: np.ndarray, start: int) -> tuple[list[int], float]:\n",
        "    import numpy as np\n",
        "    from scipy.sparse.csgraph import minimum_spanning_tree\n",
        "    from collections import defaultdict\n",
        "\n",
        "    num_cities = distance_matrix.shape[0]\n",
        "\n",
        "    start_time = perf_counter()\n",
        "\n",
        "    # Compute the MST\n",
        "    mst_sparse = minimum_spanning_tree(distance_matrix)\n",
        "    mst_matrix = mst_sparse.toarray()\n",
        "    mst_matrix += mst_matrix.T  # Make the MST undirected\n",
        "\n",
        "    # Build adjacency list from MST\n",
        "    adjacency_list = defaultdict(list)\n",
        "    for i in range(num_cities):\n",
        "        for j in range(num_cities):\n",
        "            if mst_matrix[i, j] > 0:\n",
        "                adjacency_list[i].append(j)\n",
        "\n",
        "    # Perform pre-order traversal (DFS)\n",
        "    visited = []\n",
        "    visited_set = set()\n",
        "\n",
        "    def dfs(u):\n",
        "        visited.append(u)\n",
        "        visited_set.add(u)\n",
        "        for v in adjacency_list[u]:\n",
        "            if v not in visited_set:\n",
        "                dfs(v)\n",
        "\n",
        "    dfs(start)\n",
        "    visited.append(start)  # Return to starting city\n",
        "\n",
        "    compute_time = perf_counter() - start_time\n",
        "\n",
        "    return visited, compute_time"
      ],
      "metadata": {
        "id": "-KdKhYNCkZFb"
      },
      "execution_count": 51,
      "outputs": []
    },
    {
      "cell_type": "code",
      "source": [
        "# minimum spanning tree algorithm\n",
        "\n",
        "path, compute_time = mst_approx_tsp(distance_matrix, 0)\n",
        "print(\"Path: \", path, \"Distance: \", compute_distance(distance_matrix, path)[0], \"Time: \", compute_time, 's')\n",
        "tsp_graph_vis(G, pos, path)\n",
        "plt.title(f'MST, distance: {compute_distance(distance_matrix, path)[0]}')"
      ],
      "metadata": {
        "id": "5PU8sYsjkkW7"
      },
      "execution_count": null,
      "outputs": []
    },
    {
      "cell_type": "code",
      "source": [
        "# Minimum spanning tree algorithm complexity\n",
        "\n",
        "times = []\n",
        "for i in range(2, 30):\n",
        "  _, _, distance_matrix_test  = tsp_graph(i)\n",
        "  _, compute_time = mst_approx_tsp(distance_matrix_test, 0)\n",
        "  print(f'Cities: {i}, computation time: {compute_time} s')\n",
        "  times.append(compute_time)\n",
        "plt.plot(range(2, 30), times)"
      ],
      "metadata": {
        "id": "1ThQGHnnk1ty"
      },
      "execution_count": null,
      "outputs": []
    },
    {
      "cell_type": "code",
      "source": [
        "# Christofides algorithm\n",
        "path = nx_app.christofides(G, weight=\"weight\")\n",
        "print(\"Path: \", path, \"Distance: \", compute_distance(distance_matrix, path)[0], \"Time: \", compute_time, 's')\n",
        "tsp_graph_vis(G, pos, path)\n",
        "plt.title(f'christofides, distance: {compute_distance(distance_matrix, path)[0]}')"
      ],
      "metadata": {
        "colab": {
          "base_uri": "https://localhost:8080/",
          "height": 464
        },
        "id": "Mk0efIBAdrXY",
        "outputId": "2a9bbbdf-7958-4385-c79a-5de6f4ffc27b"
      },
      "execution_count": 62,
      "outputs": [
        {
          "output_type": "stream",
          "name": "stdout",
          "text": [
            "Path:  [0, 5, 2, 4, 3, 1, 0] Distance:  2.692582206214078 Time:  0.0011274590001448814 s\n"
          ]
        },
        {
          "output_type": "execute_result",
          "data": {
            "text/plain": [
              "Text(0.5, 1.0, 'christofides, distance: 2.692582206214078')"
            ]
          },
          "metadata": {},
          "execution_count": 62
        },
        {
          "output_type": "display_data",
          "data": {
            "text/plain": [
              "<Figure size 640x480 with 1 Axes>"
            ],
            "image/png": "[encoded data removed]"
          },
          "metadata": {}
        }
      ]
    },
    {
      "cell_type": "code",
      "source": [
        "cities = 20\n",
        "G, pos, distance_matrix  = tsp_graph(cities)\n",
        "tsp_graph_vis(G, pos)\n",
        "plt.title('Travelling salesman problem')\n",
        "pd.DataFrame(distance_matrix)\n",
        "\n",
        "path, compute_time = greedy_tsp(distance_matrix, 0)\n",
        "plt.figure()\n",
        "tsp_graph_vis(G, pos, path)\n",
        "plt.title(f'Greedy, distance: {compute_distance(distance_matrix, path)[0]}')\n",
        "\n",
        "path, compute_time = mst_approx_tsp(distance_matrix, 0)\n",
        "plt.figure()\n",
        "tsp_graph_vis(G, pos, path)\n",
        "plt.title(f'MST, distance: {compute_distance(distance_matrix, path)[0]}')\n",
        "\n",
        "path = nx_app.christofides(G, weight=\"weight\")\n",
        "plt.figure()\n",
        "tsp_graph_vis(G, pos, path)\n",
        "plt.title(f'Christofides, distance: {compute_distance(distance_matrix, path)[0]}')"
      ],
      "metadata": {
        "id": "2TqfjvNMlOtx"
      },
      "execution_count": null,
      "outputs": []
    },
    {
      "cell_type": "code",
      "source": [],
      "metadata": {
        "id": "dSh7r5sgl54C"
      },
      "execution_count": null,
      "outputs": []
    }
  ]
}
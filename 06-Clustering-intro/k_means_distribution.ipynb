{
 "cells": [
  {
   "cell_type": "markdown",
   "source": [
    "# Clustering for optimal number and localization of last-mile distribution centers"
   ],
   "metadata": {
    "collapsed": false
   }
  },
  {
   "cell_type": "code",
   "execution_count": null,
   "outputs": [],
   "source": [
    "import numpy as np\n",
    "\n",
    "def kmeans(X, K, max_iters=100):\n",
    "    # Step 1: Initialize centroids randomly\n",
    "    centroids = X[np.random.choice(X.shape[0], K, replace=False)]\n",
    "\n",
    "    success = False\n",
    "\n",
    "    for _ in range(max_iters):\n",
    "        # Step 2: Assign points to the nearest centroid\n",
    "        distances = np.sqrt(((X - centroids[:, np.newaxis])**2).sum(axis=2))\n",
    "        closest_centroid = np.argmin(distances, axis=0)\n",
    "\n",
    "        # Step 3: Update centroids\n",
    "        new_centroids = np.array([X[closest_centroid == k].mean(axis=0) for k in range(K)])\n",
    "\n",
    "        # Check for convergence\n",
    "        if np.all(centroids == new_centroids):\n",
    "            success = True\n",
    "            break\n",
    "\n",
    "        centroids = new_centroids\n",
    "\n",
    "    if success:\n",
    "        return closest_centroid, centroids\n",
    "    else:\n",
    "        return None, None\n"
   ],
   "metadata": {
    "collapsed": false
   }
  },
  {
   "cell_type": "markdown",
   "source": [
    "\n",
    "## Dataset Generation\n",
    "We'll generate a synthetic dataset of 300 addresses in California\n"
   ],
   "metadata": {
    "collapsed": false
   }
  },
  {
   "cell_type": "code",
   "execution_count": null,
   "id": "841e7c88",
   "metadata": {},
   "outputs": [],
   "source": [
    "import matplotlib.pyplot as plt\n",
    "! pip install random_address\n",
    "import random_address\n",
    "\n",
    "# Generate synthetic data\n",
    "X = []\n",
    "for _ in range(300):\n",
    "    loc = random_address.real_random_address_by_state('CA')['coordinates']\n",
    "    X.append([loc['lat'], loc['lng']])\n",
    "X = np.array(X)\n",
    "\n",
    "# Plot the data\n",
    "plt.scatter(X[:, 0], X[:, 1])\n",
    "plt.title('Synthetic Addresses Dataset')\n",
    "plt.xlabel('lat')\n",
    "plt.ylabel('lng')\n",
    "plt.show()\n"
   ]
  },
  {
   "cell_type": "markdown",
   "id": "7f0d0967",
   "metadata": {},
   "source": [
    "\n",
    "## Visualization\n",
    "We'll visualize the results of our k-means clustering.\n"
   ]
  },
  {
   "cell_type": "code",
   "execution_count": null,
   "id": "6fcef6b8",
   "metadata": {},
   "outputs": [],
   "source": [
    "\n",
    "# Apply k-means\n",
    "K = 4\n",
    "labels, centroids = kmeans(X, K)\n",
    "# Visualization\n",
    "plt.scatter(X[:, 0], X[:, 1], c=labels, cmap='viridis')\n",
    "plt.scatter(centroids[:, 0], centroids[:, 1], s=100, c='red') # Centroids\n",
    "plt.title('K-Means Clustering Results')\n",
    "plt.xlabel('lat')\n",
    "plt.ylabel('lgn')\n",
    "plt.show()\n"
   ]
  },
  {
   "cell_type": "markdown",
   "id": "d00a753d",
   "metadata": {},
   "source": [
    "\n",
    "## Elbow Method\n",
    "The elbow method helps to determine the optimal number of clusters. We plot the variance against the number of clusters and look for an 'elbow' where the rate of decrease sharply changes.\n"
   ]
  },
  {
   "cell_type": "code",
   "execution_count": null,
   "id": "8a0950b7",
   "metadata": {},
   "outputs": [],
   "source": [
    "\n",
    "def compute_inertia(X, centroids, labels):\n",
    "    inertia = 0\n",
    "    for i, centroid in enumerate(centroids):\n",
    "        inertia += ((X[labels == i] - centroid) ** 2).sum()\n",
    "    return inertia\n",
    "\n",
    "inertias = []\n",
    "for k in range(1, 10):\n",
    "    labels, centroids = kmeans(X, k, max_iters=100)\n",
    "    if labels is None:\n",
    "        inertia = inertias[-1]\n",
    "    else:\n",
    "        inertia = compute_inertia(X, centroids, labels)\n",
    "    inertias.append(inertia)\n",
    "\n",
    "plt.plot(range(1, 10), inertias, 'bo-')\n",
    "plt.title('Elbow Method')\n",
    "plt.xlabel('Number of clusters')\n",
    "plt.ylabel('Inertia')\n",
    "plt.show()\n"
   ]
  },
  {
   "cell_type": "markdown",
   "id": "55f670c2",
   "metadata": {},
   "source": [
    "\n",
    "## Automatic Cluster Number Selection\n",
    "We'll use the differences in the elbow graph to automatically select the number of clusters.\n"
   ]
  },
  {
   "cell_type": "code",
   "execution_count": null,
   "outputs": [],
   "source": [
    "\n",
    "# Calculate the differences in inertia\n",
    "diffs = np.diff(inertias)\n",
    "# Find the elbow point\n",
    "optimal_k = np.argmin(diffs[diffs < 0]) + 2\n",
    "\n",
    "plt.plot(range(1, 10), inertias, 'bo-')\n",
    "plt.axvline(x=optimal_k, color='r', linestyle='--')\n",
    "plt.title('Optimal Number of Clusters: {}'.format(optimal_k))\n",
    "plt.xlabel('Number of clusters')\n",
    "plt.ylabel('Inertia')\n",
    "plt.show()\n"
   ],
   "metadata": {
    "collapsed": false
   }
  },
  {
   "cell_type": "markdown",
   "source": [
    "# Non-cluster-based Method - DBScan"
   ],
   "metadata": {
    "collapsed": false
   }
  },
  {
   "cell_type": "code",
   "execution_count": null,
   "id": "a90c52c5-edfc-4848-83e5-7b30d0f2cf05",
   "metadata": {},
   "outputs": [],
   "source": [
    "from sklearn.cluster import DBSCAN"
   ]
  },
  {
   "cell_type": "code",
   "execution_count": null,
   "outputs": [],
   "source": [
    "clustering = DBSCAN(eps=0.5, min_samples=10).fit_predict(X)\n",
    "X_cluster = X[clustering >= 0]\n",
    "X_noise = X[clustering < 0]\n",
    "plt.scatter(X_cluster[:, 0], X_cluster[:, 1], c=clustering[clustering>=0], cmap='viridis')\n",
    "plt.plot(X_noise[:, 0], X_noise[:, 1], 'r*')\n",
    "plt.title('DBScan Clustering Results')\n",
    "plt.xlabel('lat')\n",
    "plt.ylabel('lgn')\n",
    "plt.show()"
   ],
   "metadata": {
    "collapsed": false
   }
  }
 ],
 "metadata": {
  "kernelspec": {
   "display_name": "Python 3 (ipykernel)",
   "language": "python",
   "name": "python3"
  },
  "language_info": {
   "codemirror_mode": {
    "name": "ipython",
    "version": 3
   },
   "file_extension": ".py",
   "mimetype": "text/x-python",
   "name": "python",
   "nbconvert_exporter": "python",
   "pygments_lexer": "ipython3",
   "version": "3.8.10"
  }
 },
 "nbformat": 4,
 "nbformat_minor": 5
}

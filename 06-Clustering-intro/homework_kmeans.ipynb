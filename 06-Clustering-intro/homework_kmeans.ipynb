{
 "cells": [
  {
   "cell_type": "markdown",
   "id": "ac3cba02",
   "metadata": {},
   "source": [
    "\n",
    "# Homework: Image Compression using K-Means Clustering\n",
    "\n",
    "## Introduction\n",
    "\n",
    "In this assignment, you will apply the K-means clustering algorithm for image compression. The goal is to reduce the number of colors in an image by clustering similar colors together. This is a practical application of K-means in the field of image processing and computer vision.\n",
    "\n",
    "## Task\n",
    "\n",
    "Implement the K-means clustering part of the image compression function. You are provided with a template where the image loading and preparation steps are done. Your task is to complete the `compress_image` function by implementing the K-means algorithm to find the main color clusters and then map each pixel of the image to the nearest cluster centroid.\n",
    "\n",
    "## Objectives\n",
    "\n",
    "- Understand and implement K-means clustering.\n",
    "- Apply K-means for color quantization in images.\n",
    "- Analyze the effect of different numbers of clusters on the image quality and compression.\n"
   ]
  },
  {
   "cell_type": "code",
   "execution_count": null,
   "id": "740c505f",
   "metadata": {},
   "outputs": [],
   "source": [
    "\n",
    "import numpy as np\n",
    "from sklearn.cluster import KMeans\n",
    "import matplotlib.pyplot as plt\n",
    "from PIL import Image\n",
    "\n",
    "def compress_image(image_path, num_colors):\n",
    "    # Load the image\n",
    "    img = Image.open(image_path)\n",
    "    img_np = np.array(img)\n",
    "\n",
    "    # Reshape the image to be a list of pixels\n",
    "    pixels = img_np.reshape(-1, 3)\n",
    "\n",
    "    # TODO: Apply K-means clustering to find cluster centroids (the new colors)\n",
    "    # Hint: Fit KMeans on 'pixels' and then replace pixel values with nearest centroids\n",
    "    \n",
    "    # This line ensures the data type is correct and values are within the valid range\n",
    "    new_pixels = np.clip(new_pixels.astype('uint8'), 0, 255)\n",
    "\n",
    "    # Reshape the new_pixels array to the original image's dimensions\n",
    "    new_img_np = new_pixels.reshape(img_np.shape)\n",
    "\n",
    "    # Convert back to an image\n",
    "    new_img = Image.fromarray(new_img_np)\n",
    "    return new_img\n",
    "\n",
    "# Example usage\n",
    "image_path = 'path_to_your_image.jpg'  # Replace with your image path\n",
    "compressed_image = compress_image(image_path, num_colors=16)\n",
    "plt.imshow(compressed_image)\n",
    "plt.show()\n"
   ]
  },
  {
   "cell_type": "code",
   "execution_count": null,
   "id": "cb6623e6-4dd4-4d15-84db-eb19d98bc3f2",
   "metadata": {},
   "outputs": [],
   "source": []
  }
 ],
 "metadata": {
  "kernelspec": {
   "display_name": "Python 3 (ipykernel)",
   "language": "python",
   "name": "python3"
  },
  "language_info": {
   "codemirror_mode": {
    "name": "ipython",
    "version": 3
   },
   "file_extension": ".py",
   "mimetype": "text/x-python",
   "name": "python",
   "nbconvert_exporter": "python",
   "pygments_lexer": "ipython3",
   "version": "3.8.10"
  }
 },
 "nbformat": 4,
 "nbformat_minor": 5
}

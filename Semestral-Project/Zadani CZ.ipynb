{
 "cells": [
  {
   "cell_type": "markdown",
   "id": "352c531e-b0cf-4103-9dc7-ddb00225e4d9",
   "metadata": {},
   "source": [
    "# Semestrální projekt z Umělé inteligence\n",
    "Cílem semestrálního projektu je komplexní práce s daty a aplikace vhodné metody umělé inteligence za účelem dosažení stanoveného cíle. Projekt by měl zahrnovat následující kroky."
   ]
  },
  {
   "cell_type": "markdown",
   "id": "365afa6e-72fe-468a-bb34-79547adcfa71",
   "metadata": {},
   "source": [
    "## 1. Výběr dat a metody"
   ]
  },
  {
   "cell_type": "markdown",
   "id": "03f66aab-d988-4d20-92cf-3c0bc3735cfc",
   "metadata": {},
   "source": [
    "- Vyberte datovou sadu, na které budete projekt realizovat. Datová sada může být z jakéhokoliv veřejně dostupného zdroje nebo vlastního výzkumu.\n",
    "- Vyberte metodu umělé inteligence, kterou na dané datové sadě použijete. Metoda by měla odpovídat povaze dat a cíli projektu.\n",
    "- Definujte cíl projektu (např. klasifikace, predikce, clustering apod.)."
   ]
  },
  {
   "cell_type": "markdown",
   "id": "292fe8ad-9ce7-4bb7-a32e-155a2c7866b3",
   "metadata": {},
   "source": [
    "## 2. Popis metody a dat"
   ]
  },
  {
   "cell_type": "markdown",
   "id": "7b4fc4de-ec00-4491-98e1-f260f2ed870a",
   "metadata": {},
   "source": [
    "- Podrobně popište zvolenou metodu, včetně teoretického pozadí, principu fungování a případných parametrů, které plánujete nastavit.\n",
    "- Popište vybranou datovou sadu z pohledu zvolené metody. Identifikujte specifika, jako je počet vzorků, rozložení dat, případné chybějící hodnoty nebo šum."
   ]
  },
  {
   "cell_type": "markdown",
   "id": "a5ad3342-38b4-40f9-b5b5-810d7d267fd6",
   "metadata": {},
   "source": [
    "## 3. Implementace"
   ]
  },
  {
   "cell_type": "markdown",
   "id": "6431b182-f0a3-423e-8fec-432a0ffbdadf",
   "metadata": {},
   "source": [
    "- Implementujte zvolenou metodu v jazyce Python s využitím vhodných knihoven (např. scikit-learn, TensorFlow, PyTorch, pandas, NumPy).\n",
    "- Kód by měl být srozumitelný, přehledný a dobře okomentovaný.\n",
    "- V případě potřeby proveďte přípravu a předzpracování dat (čištění, škálování, transformace)."
   ]
  },
  {
   "cell_type": "markdown",
   "id": "c4314a5f-9180-442c-bdfd-0397998b2776",
   "metadata": {},
   "source": [
    "## 4. Diskuse výsledků"
   ]
  },
  {
   "cell_type": "markdown",
   "id": "887e7a36-0e5d-42f7-9ab9-2cb8d05fd3a6",
   "metadata": {},
   "source": [
    "- Diskutujte dosažené výsledky. Uveďte, jak metoda fungovala na daných datech, co fungovalo dobře a jaké byly případné problémy nebo omezení.\n",
    "- Porovnejte výsledky s očekávanými výsledky."
   ]
  },
  {
   "cell_type": "markdown",
   "id": "f0a80068-af74-4b6e-a180-a5d96e317e94",
   "metadata": {},
   "source": [
    "## Zdroje"
   ]
  },
  {
   "cell_type": "markdown",
   "id": "d17aa300-a7b0-4f23-b14f-ad0d998d3109",
   "metadata": {},
   "source": [
    "Ve vaší práci použijte odkazy na relevantní literaturu, články, knihy nebo dokumentace k použitým knihovnám. Dodržujte správné citační normy."
   ]
  },
  {
   "cell_type": "markdown",
   "id": "29a4ac42-5e77-4ae4-a29f-bec2d9181601",
   "metadata": {},
   "source": [
    "## Formát odevzdané práce"
   ]
  },
  {
   "cell_type": "markdown",
   "id": "8b8a32bb-a24b-4f4c-a153-081b9898977f",
   "metadata": {},
   "source": [
    "- **Preferovaný formát**: Jupyter Notebook (může být vytvořen i pomocí Google Colab). Textové buňky využijte pro vysvětlení teorie, postupů a výsledků. Obrázky, grafy a tabulky mohou být generovány přímo kódem.\n",
    "- *Alternativní formát*: PDF dokument. V takovém případě:\n",
    "\n",
    "    - Do příloh přiložte kompletní zdrojové kódy.\n",
    "    - Obrázky, tabulky a grafy musí být správně označené a odkazované v textu."
   ]
  },
  {
   "cell_type": "markdown",
   "id": "3fae98e2-fe10-4ad0-bac4-0f06753678b3",
   "metadata": {},
   "source": [
    "## Termín odevzdání\n",
    "**Nejméně 2 dny před zkouškou** nejpozději do konce zkouškového období."
   ]
  }
 ],
 "metadata": {
  "kernelspec": {
   "display_name": "Python 3 (ipykernel)",
   "language": "python",
   "name": "python3"
  },
  "language_info": {
   "codemirror_mode": {
    "name": "ipython",
    "version": 3
   },
   "file_extension": ".py",
   "mimetype": "text/x-python",
   "name": "python",
   "nbconvert_exporter": "python",
   "pygments_lexer": "ipython3",
   "version": "3.12.3"
  }
 },
 "nbformat": 4,
 "nbformat_minor": 5
}

{
 "cells": [
  {
   "cell_type": "markdown",
   "id": "352c531e-b0cf-4103-9dc7-ddb00225e4d9",
   "metadata": {},
   "source": [
    "# Semester Project Assignment in Artificial Intelligence\n",
    "The goal of the semester project is to work comprehensively with data and apply an appropriate artificial intelligence method to achieve a defined objective. The project should include the following steps."
   ]
  },
  {
   "cell_type": "markdown",
   "id": "365afa6e-72fe-468a-bb34-79547adcfa71",
   "metadata": {},
   "source": [
    "## 1. Selection of Data and Method"
   ]
  },
  {
   "cell_type": "markdown",
   "id": "03f66aab-d988-4d20-92cf-3c0bc3735cfc",
   "metadata": {},
   "source": [
    "- Choose a dataset for the project. The dataset can come from any publicly available source or your own research.\n",
    "- Select an artificial intelligence method suitable for the chosen dataset. The method should align with the nature of the data and the project goal.\n",
    "- Define the project objective (e.g., classification, prediction, clustering, etc.)."
   ]
  },
  {
   "cell_type": "markdown",
   "id": "292fe8ad-9ce7-4bb7-a32e-155a2c7866b3",
   "metadata": {},
   "source": [
    "## 2. Description of the Method and Data"
   ]
  },
  {
   "cell_type": "markdown",
   "id": "7b4fc4de-ec00-4491-98e1-f260f2ed870a",
   "metadata": {},
   "source": [
    "- Provide a detailed description of the selected method, including its theoretical background, principles, and any parameters you plan to configure.\n",
    "- Describe the selected dataset from the perspective of the chosen method. Highlight specifics such as the number of samples, data distribution, missing values, or noise."
   ]
  },
  {
   "cell_type": "markdown",
   "id": "a5ad3342-38b4-40f9-b5b5-810d7d267fd6",
   "metadata": {},
   "source": [
    "## 3. Implementation"
   ]
  },
  {
   "cell_type": "markdown",
   "id": "6431b182-f0a3-423e-8fec-432a0ffbdadf",
   "metadata": {},
   "source": [
    "- Implement the chosen method in Python using appropriate libraries (e.g., scikit-learn, TensorFlow, PyTorch, pandas, NumPy).\n",
    "- The code should be clear, well-structured, and adequately commented.\n",
    "- If necessary, perform data preparation and preprocessing (e.g., cleaning, scaling, transformation)."
   ]
  },
  {
   "cell_type": "markdown",
   "id": "c4314a5f-9180-442c-bdfd-0397998b2776",
   "metadata": {},
   "source": [
    "## 4. Discussion of Results"
   ]
  },
  {
   "cell_type": "markdown",
   "id": "887e7a36-0e5d-42f7-9ab9-2cb8d05fd3a6",
   "metadata": {},
   "source": [
    "- Discuss the achieved results. Explain how the method performed on the data, what worked well, and any issues or limitations encountered.\n",
    "- Compare the results with expected outcomes."
   ]
  },
  {
   "cell_type": "markdown",
   "id": "f0a80068-af74-4b6e-a180-a5d96e317e94",
   "metadata": {},
   "source": [
    "## References"
   ]
  },
  {
   "cell_type": "markdown",
   "id": "d17aa300-a7b0-4f23-b14f-ad0d998d3109",
   "metadata": {},
   "source": [
    "Include references to relevant literature, articles, books, or documentation for the libraries used. Follow proper citation standards."
   ]
  },
  {
   "cell_type": "markdown",
   "id": "29a4ac42-5e77-4ae4-a29f-bec2d9181601",
   "metadata": {},
   "source": [
    "## Submission Format"
   ]
  },
  {
   "cell_type": "markdown",
   "id": "8b8a32bb-a24b-4f4c-a153-081b9898977f",
   "metadata": {},
   "source": [
    "- **Preferred format**: Jupyter Notebook (can also be created using Google Colab). Use markdown cells to explain the theory, procedures, and results. Visualizations such as graphs, charts, and tables can be generated directly by the code.\n",
    "- *Alternative format*: PDF document. In this case:\n",
    "\n",
    "    - Attach the complete source code as an appendix.\n",
    "    - Ensure that all images, tables, and charts are appropriately labeled and referenced in the text."
   ]
  },
  {
   "cell_type": "markdown",
   "id": "3fae98e2-fe10-4ad0-bac4-0f06753678b3",
   "metadata": {},
   "source": [
    "## Submission deadline\n",
    "**At least 2 days before the exam**, no later than the end of the examination period.\n"
   ]
  }
 ],
 "metadata": {
  "kernelspec": {
   "display_name": "Python 3 (ipykernel)",
   "language": "python",
   "name": "python3"
  },
  "language_info": {
   "codemirror_mode": {
    "name": "ipython",
    "version": 3
   },
   "file_extension": ".py",
   "mimetype": "text/x-python",
   "name": "python",
   "nbconvert_exporter": "python",
   "pygments_lexer": "ipython3",
   "version": "3.12.3"
  }
 },
 "nbformat": 4,
 "nbformat_minor": 5
}

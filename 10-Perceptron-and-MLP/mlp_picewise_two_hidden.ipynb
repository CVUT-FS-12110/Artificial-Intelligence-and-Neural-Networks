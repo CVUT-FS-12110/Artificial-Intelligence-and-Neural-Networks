{
  "nbformat": 4,
  "nbformat_minor": 0,
  "metadata": {
    "colab": {
      "provenance": []
    },
    "kernelspec": {
      "name": "python3",
      "display_name": "Python 3"
    },
    "language_info": {
      "name": "python"
    }
  },
  "cells": [
    {
      "cell_type": "markdown",
      "source": [
        "# MLP - regresní úloha s dvěma skrytými vrstvami"
      ],
      "metadata": {
        "id": "27AtQ408LL4f"
      }
    },
    {
      "cell_type": "code",
      "execution_count": null,
      "metadata": {
        "id": "f-p4Re-XSOp5"
      },
      "outputs": [],
      "source": [
        "import tensorflow as tf\n",
        "import numpy as np\n",
        "import matplotlib.pyplot as plt"
      ]
    },
    {
      "cell_type": "markdown",
      "source": [
        "## Příprava dat pro regresní úlohu"
      ],
      "metadata": {
        "id": "9CHqTw6ALiVk"
      }
    },
    {
      "cell_type": "code",
      "source": [
        "x = np.arange(0, 4, 0.1)\n",
        "y = np.sin(x)\n",
        "plt.scatter(x, y)\n",
        "X=x.reshape((-1,1))"
      ],
      "metadata": {
        "id": "gmtcICG7SPNA"
      },
      "execution_count": null,
      "outputs": []
    },
    {
      "cell_type": "markdown",
      "source": [
        "## Definice MLP sítě"
      ],
      "metadata": {
        "id": "NXakcxJQML7h"
      }
    },
    {
      "cell_type": "code",
      "source": [
        "model = tf.keras.models.Sequential([tf.keras.layers.Dense(16, activation='relu', name='hidden_1'),\n",
        "                                    tf.keras.layers.Dense(8, activation='relu', name='hidden_2'),\n",
        "                                    tf.keras.layers.Dense(1, name='output')])"
      ],
      "metadata": {
        "id": "Sxj1ZR5LX2My"
      },
      "execution_count": null,
      "outputs": []
    },
    {
      "cell_type": "markdown",
      "source": [
        "## Kompilace sítě"
      ],
      "metadata": {
        "id": "p1CXMnZwLj0C"
      }
    },
    {
      "cell_type": "code",
      "source": [
        "model.compile(optimizer='adam',\n",
        "              loss='mse',\n",
        "              )"
      ],
      "metadata": {
        "id": "ksZJVpT-YJCB"
      },
      "execution_count": null,
      "outputs": []
    },
    {
      "cell_type": "markdown",
      "source": [
        "## Učení a validace"
      ],
      "metadata": {
        "id": "qd6EWchGLkno"
      }
    },
    {
      "cell_type": "code",
      "source": [
        "model.fit(x.repeat(1000).reshape((-1, 1)) , y.repeat(1000), epochs=10)\n",
        "model.evaluate(x, y)"
      ],
      "metadata": {
        "id": "FPfjiDkxnq68"
      },
      "execution_count": null,
      "outputs": []
    },
    {
      "cell_type": "markdown",
      "source": [
        "## Rozšířená vstupní data"
      ],
      "metadata": {
        "id": "WsTrKHk-LlRJ"
      }
    },
    {
      "cell_type": "code",
      "source": [
        "X_art = np.arange(0, 4, 0.01).reshape(-1,1)"
      ],
      "metadata": {
        "id": "15M_A2RF4WCn"
      },
      "execution_count": null,
      "outputs": []
    },
    {
      "cell_type": "markdown",
      "source": [
        "## Predikce"
      ],
      "metadata": {
        "id": "6LJVm79sLoe7"
      }
    },
    {
      "cell_type": "code",
      "source": [
        "y_prediction = model.predict(X_art)\n",
        "plt.scatter(x, y)\n",
        "plt.plot(X_art, y_prediction, 'r')\n"
      ],
      "metadata": {
        "id": "wQLFlWCP4anp"
      },
      "execution_count": null,
      "outputs": []
    },
    {
      "cell_type": "markdown",
      "source": [
        "## Skryté vrstvy a výstupní vrstva"
      ],
      "metadata": {
        "id": "TjROz_aNLpr1"
      }
    },
    {
      "cell_type": "code",
      "source": [
        "hidden1 = model.get_layer('hidden_1')\n",
        "hidden2 = model.get_layer('hidden_2')\n",
        "output = model.get_layer('output')"
      ],
      "metadata": {
        "id": "PK340H8vYq8y"
      },
      "execution_count": null,
      "outputs": []
    },
    {
      "cell_type": "markdown",
      "source": [
        "## Funkce pro výpočet vážených sum vstupů neuronů v zadané vrstvě"
      ],
      "metadata": {
        "id": "ifCIWFV9Lqdr"
      }
    },
    {
      "cell_type": "code",
      "source": [
        "def get_layer_output(x, w, b):\n",
        "  y = np.zeros((x.shape[0], w.shape[1]))\n",
        "  print(y.shape)\n",
        "  for idx, x_i in enumerate(x):\n",
        "    y[idx] = w.T.dot(x_i) + b\n",
        "  return y"
      ],
      "metadata": {
        "id": "X1PtYMwDd4Zr"
      },
      "execution_count": null,
      "outputs": []
    },
    {
      "cell_type": "markdown",
      "source": [
        "## Vážené sumy a aktivace neuronů ve všech vrstvách sítě"
      ],
      "metadata": {
        "id": "KwpKs1lrLrFR"
      }
    },
    {
      "cell_type": "code",
      "source": [
        "z_1 = get_layer_output(X_art, hidden1.kernel.numpy(), hidden1.bias.numpy())\n",
        "a_1 = hidden1.activation(z_1).numpy()\n",
        "z_2 = get_layer_output(a_1, hidden2.kernel.numpy(), hidden2.bias.numpy())\n",
        "a_2 = hidden2.activation(z_2).numpy()\n",
        "a_2_weighted = a_2 * output.kernel.numpy().flatten()\n",
        "a_out = a_2_weighted.sum(axis=1)+output.bias.numpy()"
      ],
      "metadata": {
        "id": "ztNwUHMhfAyF"
      },
      "execution_count": null,
      "outputs": []
    },
    {
      "cell_type": "markdown",
      "source": [
        "## Vážené sumy a aktivace neuronů první skryté vrstvy"
      ],
      "metadata": {
        "id": "xDA3OiUcLsPD"
      }
    },
    {
      "cell_type": "code",
      "source": [
        "plt.plot(X_art, z_1);\n",
        "plt.figure();\n",
        "plt.plot(X_art, a_1);"
      ],
      "metadata": {
        "id": "wLx7CXNkfdQE"
      },
      "execution_count": null,
      "outputs": []
    },
    {
      "cell_type": "markdown",
      "source": [
        "## Vážené sumy a aktivace neuronů druhé skryté vrstvy"
      ],
      "metadata": {
        "id": "VHw6Um0jLyfl"
      }
    },
    {
      "cell_type": "code",
      "source": [
        "plt.plot(X_art, z_2);\n",
        "plt.figure();\n",
        "plt.plot(X_art, a_2);"
      ],
      "metadata": {
        "id": "uVL7AcadloZ_"
      },
      "execution_count": null,
      "outputs": []
    },
    {
      "cell_type": "markdown",
      "source": [
        "## Vážené vstupy a suma výstupní vrsvy"
      ],
      "metadata": {
        "id": "INW0gSAALzRB"
      }
    },
    {
      "cell_type": "code",
      "source": [
        "plt.plot(X_art, a_2_weighted);\n",
        "plt.figure();\n",
        "plt.plot(X_art, a_out);"
      ],
      "metadata": {
        "id": "D1gDiRD9jknG"
      },
      "execution_count": null,
      "outputs": []
    },
    {
      "cell_type": "code",
      "source": [],
      "metadata": {
        "id": "aDYy8tH1ncIQ"
      },
      "execution_count": null,
      "outputs": []
    }
  ]
}
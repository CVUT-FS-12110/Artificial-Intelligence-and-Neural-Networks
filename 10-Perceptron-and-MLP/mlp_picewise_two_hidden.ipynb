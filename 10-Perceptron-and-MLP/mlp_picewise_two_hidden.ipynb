{
 "cells": [
  {
   "cell_type": "markdown",
   "metadata": {
    "id": "27AtQ408LL4f"
   },
   "source": [
    "# MLP - Regression with two hidden layers"
   ]
  },
  {
   "cell_type": "code",
   "execution_count": null,
   "metadata": {
    "id": "f-p4Re-XSOp5"
   },
   "outputs": [],
   "source": [
    "import tensorflow as tf\n",
    "import numpy as np\n",
    "import matplotlib.pyplot as plt"
   ]
  },
  {
   "cell_type": "markdown",
   "metadata": {
    "id": "9CHqTw6ALiVk"
   },
   "source": [
    "## Data preparation"
   ]
  },
  {
   "cell_type": "code",
   "execution_count": null,
   "metadata": {
    "id": "gmtcICG7SPNA"
   },
   "outputs": [],
   "source": [
    "x = np.arange(0, 4, 0.1)\n",
    "y = np.sin(x)\n",
    "plt.scatter(x, y)\n",
    "X=x.reshape((-1,1))"
   ]
  },
  {
   "cell_type": "markdown",
   "metadata": {
    "id": "NXakcxJQML7h"
   },
   "source": [
    "## MLP definition as Tensorflow model"
   ]
  },
  {
   "cell_type": "code",
   "execution_count": null,
   "metadata": {
    "id": "Sxj1ZR5LX2My"
   },
   "outputs": [],
   "source": [
    "model = tf.keras.models.Sequential([tf.keras.layers.Dense(16, activation='relu', name='hidden_1'),\n",
    "                                    tf.keras.layers.Dense(8, activation='relu', name='hidden_2'),\n",
    "                                    tf.keras.layers.Dense(1, name='output')])"
   ]
  },
  {
   "cell_type": "markdown",
   "metadata": {
    "id": "p1CXMnZwLj0C"
   },
   "source": [
    "## MLP model compilation"
   ]
  },
  {
   "cell_type": "code",
   "execution_count": null,
   "metadata": {
    "id": "ksZJVpT-YJCB"
   },
   "outputs": [],
   "source": [
    "model.compile(optimizer='adam',\n",
    "              loss='mse',\n",
    "              )"
   ]
  },
  {
   "cell_type": "markdown",
   "metadata": {
    "id": "qd6EWchGLkno"
   },
   "source": [
    "## Training and validation"
   ]
  },
  {
   "cell_type": "code",
   "execution_count": null,
   "metadata": {
    "id": "FPfjiDkxnq68"
   },
   "outputs": [],
   "source": [
    "model.fit(x.repeat(1000).reshape((-1, 1)) , y.repeat(1000), epochs=10)\n",
    "model.evaluate(x, y)"
   ]
  },
  {
   "cell_type": "markdown",
   "metadata": {
    "id": "WsTrKHk-LlRJ"
   },
   "source": [
    "## Preparation of inputs for testing"
   ]
  },
  {
   "cell_type": "code",
   "execution_count": null,
   "metadata": {
    "id": "15M_A2RF4WCn"
   },
   "outputs": [],
   "source": [
    "X_art = np.arange(0, 4, 0.01).reshape(-1,1)"
   ]
  },
  {
   "cell_type": "markdown",
   "metadata": {
    "id": "6LJVm79sLoe7"
   },
   "source": [
    "## Prediction on testing data"
   ]
  },
  {
   "cell_type": "code",
   "execution_count": null,
   "metadata": {
    "id": "wQLFlWCP4anp"
   },
   "outputs": [],
   "source": [
    "y_prediction = model.predict(X_art)\n",
    "plt.scatter(x, y)\n",
    "plt.plot(X_art, y_prediction, 'r')\n"
   ]
  },
  {
   "cell_type": "markdown",
   "metadata": {
    "id": "TjROz_aNLpr1"
   },
   "source": [
    "## Hidden layers and output layer"
   ]
  },
  {
   "cell_type": "code",
   "execution_count": null,
   "metadata": {
    "id": "PK340H8vYq8y"
   },
   "outputs": [],
   "source": [
    "hidden1 = model.get_layer('hidden_1')\n",
    "hidden2 = model.get_layer('hidden_2')\n",
    "output = model.get_layer('output')"
   ]
  },
  {
   "cell_type": "markdown",
   "metadata": {
    "id": "ifCIWFV9Lqdr"
   },
   "source": [
    "## Function for calculating weighted sums of neuron inputs in a specified layer"
   ]
  },
  {
   "cell_type": "code",
   "execution_count": null,
   "metadata": {
    "id": "X1PtYMwDd4Zr"
   },
   "outputs": [],
   "source": [
    "def get_layer_output(x, w, b):\n",
    "  y = np.zeros((x.shape[0], w.shape[1]))\n",
    "  print(y.shape)\n",
    "  for idx, x_i in enumerate(x):\n",
    "    y[idx] = w.T.dot(x_i) + b\n",
    "  return y"
   ]
  },
  {
   "cell_type": "markdown",
   "metadata": {
    "id": "KwpKs1lrLrFR"
   },
   "source": [
    "## WEighted sums of inputs and activations for all neurons in the MLP"
   ]
  },
  {
   "cell_type": "code",
   "execution_count": null,
   "metadata": {
    "id": "ztNwUHMhfAyF"
   },
   "outputs": [],
   "source": [
    "z_1 = get_layer_output(X_art, hidden1.kernel.numpy(), hidden1.bias.numpy())\n",
    "a_1 = hidden1.activation(z_1).numpy()\n",
    "z_2 = get_layer_output(a_1, hidden2.kernel.numpy(), hidden2.bias.numpy())\n",
    "a_2 = hidden2.activation(z_2).numpy()\n",
    "a_2_weighted = a_2 * output.kernel.numpy().flatten()\n",
    "a_out = a_2_weighted.sum(axis=1)+output.bias.numpy()"
   ]
  },
  {
   "cell_type": "markdown",
   "metadata": {
    "id": "xDA3OiUcLsPD"
   },
   "source": [
    "## First hidden layer visualisation"
   ]
  },
  {
   "cell_type": "code",
   "execution_count": null,
   "metadata": {
    "id": "wLx7CXNkfdQE"
   },
   "outputs": [],
   "source": [
    "plt.plot(X_art, z_1);\n",
    "plt.title('First hidden layer weighted sums')\n",
    "plt.figure();\n",
    "plt.plot(X_art, a_1);\n",
    "plt.title('First hidden layer activations')\n"
   ]
  },
  {
   "cell_type": "markdown",
   "metadata": {
    "id": "VHw6Um0jLyfl"
   },
   "source": [
    "## Second hidden layer visualisation"
   ]
  },
  {
   "cell_type": "code",
   "execution_count": null,
   "metadata": {
    "id": "uVL7AcadloZ_"
   },
   "outputs": [],
   "source": [
    "plt.plot(X_art, z_2);\n",
    "plt.title('Second hidden layer weighted sums')\n",
    "plt.figure();\n",
    "plt.plot(X_art, a_2);\n",
    "plt.title('Second hidden layer activations')\n"
   ]
  },
  {
   "cell_type": "markdown",
   "metadata": {
    "id": "INW0gSAALzRB"
   },
   "source": [
    "## Output layer visualisation"
   ]
  },
  {
   "cell_type": "code",
   "execution_count": null,
   "metadata": {
    "id": "D1gDiRD9jknG"
   },
   "outputs": [],
   "source": [
    "plt.title('Output layer weighted inputs')\n",
    "plt.plot(X_art, a_2_weighted);\n",
    "plt.figure();\n",
    "plt.plot(X_art, a_out);\n",
    "plt.title('Output layer sum of weighted inputs')\n"
   ]
  },
  {
   "cell_type": "code",
   "execution_count": null,
   "metadata": {
    "id": "aDYy8tH1ncIQ"
   },
   "outputs": [],
   "source": []
  }
 ],
 "metadata": {
  "colab": {
   "provenance": []
  },
  "kernelspec": {
   "display_name": "Python 3",
   "name": "python3"
  },
  "language_info": {
   "name": "python"
  }
 },
 "nbformat": 4,
 "nbformat_minor": 0
}

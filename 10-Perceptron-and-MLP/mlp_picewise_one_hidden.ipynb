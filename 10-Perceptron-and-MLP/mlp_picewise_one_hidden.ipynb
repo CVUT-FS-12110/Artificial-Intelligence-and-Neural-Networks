{
 "cells": [
  {
   "cell_type": "markdown",
   "metadata": {
    "id": "P0uMrrduIq6D"
   },
   "source": [
    "# MLP - regression - one hidden layer"
   ]
  },
  {
   "cell_type": "code",
   "execution_count": null,
   "metadata": {
    "id": "f-p4Re-XSOp5"
   },
   "outputs": [],
   "source": [
    "import tensorflow as tf\n",
    "import numpy as np\n",
    "import matplotlib.pyplot as plt"
   ]
  },
  {
   "cell_type": "markdown",
   "metadata": {
    "id": "C1QvH27GGulQ"
   },
   "source": [
    "## Data preparation"
   ]
  },
  {
   "cell_type": "code",
   "execution_count": null,
   "metadata": {
    "id": "gmtcICG7SPNA"
   },
   "outputs": [],
   "source": [
    "x = np.arange(0, 4, 0.1)\n",
    "y = np.sin(x)\n",
    "plt.scatter(x, y)\n",
    "X=x.reshape((-1,1))"
   ]
  },
  {
   "cell_type": "markdown",
   "metadata": {
    "id": "pQtVkOt3G1uY"
   },
   "source": [
    "## MLP definition as tensorflow model"
   ]
  },
  {
   "cell_type": "code",
   "execution_count": null,
   "metadata": {
    "id": "Sxj1ZR5LX2My"
   },
   "outputs": [],
   "source": [
    "model = tf.keras.models.Sequential([tf.keras.layers.Dense(8, activation='relu', name='hidden'),\n",
    "                                    tf.keras.layers.Dense(1, name='output')])"
   ]
  },
  {
   "cell_type": "markdown",
   "metadata": {
    "id": "w-FA6f9IG232"
   },
   "source": [
    "## MLP model compilation"
   ]
  },
  {
   "cell_type": "code",
   "execution_count": null,
   "metadata": {
    "id": "ksZJVpT-YJCB"
   },
   "outputs": [],
   "source": [
    "model.compile(optimizer='adam',\n",
    "              loss='mse',\n",
    "              )"
   ]
  },
  {
   "cell_type": "markdown",
   "metadata": {
    "id": "VJtuw1F2G9iE"
   },
   "source": [
    "## Model Training and Validiation"
   ]
  },
  {
   "cell_type": "code",
   "execution_count": null,
   "metadata": {
    "id": "5-iNy2abYK25"
   },
   "outputs": [],
   "source": [
    "model.fit(x.repeat(1000).reshape((-1, 1)) , y.repeat(1000), epochs=10)\n",
    "model.evaluate(x, y)"
   ]
  },
  {
   "cell_type": "markdown",
   "metadata": {
    "id": "zX2_tTSgHFZC"
   },
   "source": [
    "## Definition of input data for testing"
   ]
  },
  {
   "cell_type": "code",
   "execution_count": null,
   "metadata": {
    "id": "15M_A2RF4WCn"
   },
   "outputs": [],
   "source": [
    "X_art = np.arange(0, 4, 0.01).reshape(-1,1)"
   ]
  },
  {
   "cell_type": "markdown",
   "metadata": {
    "id": "SqAOEpDvHLfv"
   },
   "source": [
    "## Prediction on testing data"
   ]
  },
  {
   "cell_type": "code",
   "execution_count": null,
   "metadata": {
    "id": "wQLFlWCP4anp"
   },
   "outputs": [],
   "source": [
    "y_prediction = model.predict(X_art)\n",
    "plt.scatter(x, y)\n",
    "plt.plot(X_art, y_prediction, 'r')"
   ]
  },
  {
   "cell_type": "markdown",
   "metadata": {
    "id": "lci_i30eHRTv"
   },
   "source": [
    "## MLP Hidden layer and its weights"
   ]
  },
  {
   "cell_type": "code",
   "execution_count": null,
   "metadata": {
    "id": "PK340H8vYq8y"
   },
   "outputs": [],
   "source": [
    "hidden = model.get_layer('hidden')\n",
    "hidden.kernel.numpy()"
   ]
  },
  {
   "cell_type": "markdown",
   "metadata": {
    "id": "SX7ORSTTHQYd"
   },
   "source": [
    "## MLP hidden layer bias"
   ]
  },
  {
   "cell_type": "code",
   "execution_count": null,
   "metadata": {
    "id": "VAwGemzzaJRM"
   },
   "outputs": [],
   "source": [
    "hidden.bias.numpy()"
   ]
  },
  {
   "cell_type": "markdown",
   "metadata": {
    "id": "HQx5UnboHYdT"
   },
   "source": [
    "## MLP Output layer and its weights"
   ]
  },
  {
   "cell_type": "code",
   "execution_count": null,
   "metadata": {
    "id": "od-a0DZObM4r"
   },
   "outputs": [],
   "source": [
    "output = model.get_layer('output')\n",
    "output.kernel.numpy()"
   ]
  },
  {
   "cell_type": "markdown",
   "metadata": {
    "id": "MQtPqkiBJDja"
   },
   "source": [
    "## MLP Output layer bias"
   ]
  },
  {
   "cell_type": "code",
   "execution_count": null,
   "metadata": {
    "id": "eEeyaRKvJHlm"
   },
   "outputs": [],
   "source": [
    "output.bias.numpy()"
   ]
  },
  {
   "cell_type": "markdown",
   "metadata": {
    "id": "I6-DM4jiHdfB"
   },
   "source": [
    "## Function for calculating weighted sums of neuron inputs in a specified layer"
   ]
  },
  {
   "cell_type": "code",
   "execution_count": null,
   "metadata": {
    "id": "X1PtYMwDd4Zr"
   },
   "outputs": [],
   "source": [
    "def get_layer_output(x, w, b):\n",
    "  y = np.zeros((x.shape[0], w.shape[1]))\n",
    "  print(y.shape)\n",
    "  for idx, x_i in enumerate(x):\n",
    "    y[idx] = w.T.dot(x_i) + b\n",
    "  return y"
   ]
  },
  {
   "cell_type": "markdown",
   "metadata": {
    "id": "PqSuzk0OHkMC"
   },
   "source": [
    "## MLP Hidden layer weighted sums"
   ]
  },
  {
   "cell_type": "code",
   "execution_count": null,
   "metadata": {
    "id": "bwzCnzVhfXp1"
   },
   "outputs": [],
   "source": [
    "z_hidden = get_layer_output(X_art, hidden.kernel.numpy(), hidden.bias.numpy())"
   ]
  },
  {
   "cell_type": "code",
   "execution_count": null,
   "metadata": {
    "id": "wLx7CXNkfdQE"
   },
   "outputs": [],
   "source": [
    "plt.plot(X_art, z_hidden);"
   ]
  },
  {
   "cell_type": "markdown",
   "metadata": {
    "id": "X7Chg8VOH4F4"
   },
   "source": [
    "## Aplication of activation function on hidden layer"
   ]
  },
  {
   "cell_type": "code",
   "execution_count": null,
   "metadata": {
    "id": "uVL7AcadloZ_"
   },
   "outputs": [],
   "source": [
    "a_hidden= hidden.activation(z_hidden).numpy()"
   ]
  },
  {
   "cell_type": "code",
   "execution_count": null,
   "metadata": {
    "id": "xQsbcRyFlv4u"
   },
   "outputs": [],
   "source": [
    "plt.plot(X_art, a_hidden);"
   ]
  },
  {
   "cell_type": "markdown",
   "metadata": {
    "id": "FaMYsg3GH_xp"
   },
   "source": [
    "## Weighted outputs of hidden layer as inputs of outpul layer without bias"
   ]
  },
  {
   "cell_type": "code",
   "execution_count": null,
   "metadata": {
    "id": "t9K_7rRVfzf1"
   },
   "outputs": [],
   "source": [
    "a_weighted = a_hidden * output.kernel.numpy().flatten()"
   ]
  },
  {
   "cell_type": "code",
   "execution_count": null,
   "metadata": {
    "id": "LXbqNdM2gHpd"
   },
   "outputs": [],
   "source": [
    "plt.plot(X_art, a_weighted);"
   ]
  },
  {
   "cell_type": "markdown",
   "metadata": {
    "id": "QB7ywAhuIemo"
   },
   "source": [
    "## Sum of weighted inputs of output layer (activation function of output layer is identity)"
   ]
  },
  {
   "cell_type": "code",
   "execution_count": null,
   "metadata": {
    "id": "8oVAMYGIgO19"
   },
   "outputs": [],
   "source": [
    "plt.scatter(x, y)\n",
    "plt.plot(X_art, a_weighted.sum(axis=1)+output.bias.numpy(), 'r')\n",
    "\n"
   ]
  },
  {
   "cell_type": "code",
   "execution_count": null,
   "metadata": {
    "id": "D1gDiRD9jknG"
   },
   "outputs": [],
   "source": []
  }
 ],
 "metadata": {
  "colab": {
   "provenance": []
  },
  "kernelspec": {
   "display_name": "Python 3",
   "name": "python3"
  },
  "language_info": {
   "name": "python"
  }
 },
 "nbformat": 4,
 "nbformat_minor": 0
}

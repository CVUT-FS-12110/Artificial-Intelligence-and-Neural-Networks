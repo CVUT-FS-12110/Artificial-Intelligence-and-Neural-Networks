{
  "nbformat": 4,
  "nbformat_minor": 0,
  "metadata": {
    "colab": {
      "provenance": []
    },
    "kernelspec": {
      "name": "python3",
      "display_name": "Python 3"
    },
    "language_info": {
      "name": "python"
    }
  },
  "cells": [
    {
      "cell_type": "markdown",
      "source": [
        "# MLP - regresní úloha s jednou skrytou vrstvou"
      ],
      "metadata": {
        "id": "P0uMrrduIq6D"
      }
    },
    {
      "cell_type": "code",
      "execution_count": null,
      "metadata": {
        "id": "f-p4Re-XSOp5"
      },
      "outputs": [],
      "source": [
        "import tensorflow as tf\n",
        "import numpy as np\n",
        "import matplotlib.pyplot as plt"
      ]
    },
    {
      "cell_type": "markdown",
      "source": [
        "## Příprava dat pro regresní úlohu"
      ],
      "metadata": {
        "id": "C1QvH27GGulQ"
      }
    },
    {
      "cell_type": "code",
      "source": [
        "x = np.arange(0, 4, 0.1)\n",
        "y = np.sin(x)\n",
        "plt.scatter(x, y)\n",
        "X=x.reshape((-1,1))"
      ],
      "metadata": {
        "id": "gmtcICG7SPNA"
      },
      "execution_count": null,
      "outputs": []
    },
    {
      "cell_type": "markdown",
      "source": [
        "## Definice MLP sítě"
      ],
      "metadata": {
        "id": "pQtVkOt3G1uY"
      }
    },
    {
      "cell_type": "code",
      "source": [
        "model = tf.keras.models.Sequential([tf.keras.layers.Dense(8, activation='relu', name='hidden'),\n",
        "                                    tf.keras.layers.Dense(1, name='output')])"
      ],
      "metadata": {
        "id": "Sxj1ZR5LX2My"
      },
      "execution_count": null,
      "outputs": []
    },
    {
      "cell_type": "markdown",
      "source": [
        "## Kompilace sítě"
      ],
      "metadata": {
        "id": "w-FA6f9IG232"
      }
    },
    {
      "cell_type": "code",
      "source": [
        "model.compile(optimizer='adam',\n",
        "              loss='mse',\n",
        "              )"
      ],
      "metadata": {
        "id": "ksZJVpT-YJCB"
      },
      "execution_count": null,
      "outputs": []
    },
    {
      "cell_type": "markdown",
      "source": [
        "## Učení a validace"
      ],
      "metadata": {
        "id": "VJtuw1F2G9iE"
      }
    },
    {
      "cell_type": "code",
      "source": [
        "model.fit(x.repeat(1000).reshape((-1, 1)) , y.repeat(1000), epochs=10)\n",
        "model.evaluate(x, y)"
      ],
      "metadata": {
        "id": "5-iNy2abYK25"
      },
      "execution_count": null,
      "outputs": []
    },
    {
      "cell_type": "markdown",
      "source": [
        "## Predikce"
      ],
      "metadata": {
        "id": "Y5bBL2xxHCLE"
      }
    },
    {
      "cell_type": "markdown",
      "source": [
        "## Rozšířená vstupní data"
      ],
      "metadata": {
        "id": "zX2_tTSgHFZC"
      }
    },
    {
      "cell_type": "code",
      "source": [
        "X_art = np.arange(0, 4, 0.01).reshape(-1,1)"
      ],
      "metadata": {
        "id": "15M_A2RF4WCn"
      },
      "execution_count": null,
      "outputs": []
    },
    {
      "cell_type": "markdown",
      "source": [
        "## Predikce na rozšířených vstupních datech"
      ],
      "metadata": {
        "id": "SqAOEpDvHLfv"
      }
    },
    {
      "cell_type": "code",
      "source": [
        "y_prediction = model.predict(X_art)\n",
        "plt.scatter(x, y)\n",
        "plt.plot(X_art, y_prediction, 'r')"
      ],
      "metadata": {
        "id": "wQLFlWCP4anp"
      },
      "execution_count": null,
      "outputs": []
    },
    {
      "cell_type": "markdown",
      "source": [
        "## Skrytá vrstva MLP a její váhy"
      ],
      "metadata": {
        "id": "lci_i30eHRTv"
      }
    },
    {
      "cell_type": "code",
      "source": [
        "hidden = model.get_layer('hidden')\n",
        "hidden.kernel.numpy()"
      ],
      "metadata": {
        "id": "PK340H8vYq8y"
      },
      "execution_count": null,
      "outputs": []
    },
    {
      "cell_type": "markdown",
      "source": [
        "## Prahové hodnoty neuronů ve skryté vrstvě"
      ],
      "metadata": {
        "id": "SX7ORSTTHQYd"
      }
    },
    {
      "cell_type": "code",
      "source": [
        "hidden.bias.numpy()"
      ],
      "metadata": {
        "id": "VAwGemzzaJRM"
      },
      "execution_count": null,
      "outputs": []
    },
    {
      "cell_type": "markdown",
      "source": [
        "## Výstupní vrstva MLP a její váhy"
      ],
      "metadata": {
        "id": "HQx5UnboHYdT"
      }
    },
    {
      "cell_type": "code",
      "source": [
        "output = model.get_layer('output')\n",
        "output.kernel.numpy()"
      ],
      "metadata": {
        "id": "od-a0DZObM4r"
      },
      "execution_count": null,
      "outputs": []
    },
    {
      "cell_type": "markdown",
      "source": [
        "## Prahová hodnota výstupní vrstvy"
      ],
      "metadata": {
        "id": "MQtPqkiBJDja"
      }
    },
    {
      "cell_type": "code",
      "source": [
        "output.bias.numpy()"
      ],
      "metadata": {
        "id": "eEeyaRKvJHlm"
      },
      "execution_count": null,
      "outputs": []
    },
    {
      "cell_type": "markdown",
      "source": [
        "## Funkce pro výpočet vážených sum vstupů neuronů v zadané vrstvě"
      ],
      "metadata": {
        "id": "I6-DM4jiHdfB"
      }
    },
    {
      "cell_type": "code",
      "source": [
        "def get_layer_output(x, w, b):\n",
        "  y = np.zeros((x.shape[0], w.shape[1]))\n",
        "  print(y.shape)\n",
        "  for idx, x_i in enumerate(x):\n",
        "    y[idx] = w.T.dot(x_i) + b\n",
        "  return y"
      ],
      "metadata": {
        "id": "X1PtYMwDd4Zr"
      },
      "execution_count": null,
      "outputs": []
    },
    {
      "cell_type": "markdown",
      "source": [
        "## Vážená suma vstupů ve skryté vrstvě"
      ],
      "metadata": {
        "id": "PqSuzk0OHkMC"
      }
    },
    {
      "cell_type": "code",
      "source": [
        "z_hidden = get_layer_output(X_art, hidden.kernel.numpy(), hidden.bias.numpy())"
      ],
      "metadata": {
        "id": "bwzCnzVhfXp1"
      },
      "execution_count": null,
      "outputs": []
    },
    {
      "cell_type": "code",
      "source": [
        "plt.plot(X_art, z_hidden);"
      ],
      "metadata": {
        "id": "wLx7CXNkfdQE"
      },
      "execution_count": null,
      "outputs": []
    },
    {
      "cell_type": "markdown",
      "source": [
        "## Aplikace aktivační funkce ve skyté vrstvě"
      ],
      "metadata": {
        "id": "X7Chg8VOH4F4"
      }
    },
    {
      "cell_type": "code",
      "source": [
        "a_hidden= hidden.activation(z_hidden).numpy()"
      ],
      "metadata": {
        "id": "uVL7AcadloZ_"
      },
      "execution_count": null,
      "outputs": []
    },
    {
      "cell_type": "code",
      "source": [
        "plt.plot(X_art, a_hidden);"
      ],
      "metadata": {
        "id": "xQsbcRyFlv4u"
      },
      "execution_count": null,
      "outputs": []
    },
    {
      "cell_type": "markdown",
      "source": [
        "## Vážené hodnoty vstupů ve výstupní vrstvě bez prahové hodnoty"
      ],
      "metadata": {
        "id": "FaMYsg3GH_xp"
      }
    },
    {
      "cell_type": "code",
      "source": [
        "a_weighted = a_hidden * output.kernel.numpy().flatten()"
      ],
      "metadata": {
        "id": "t9K_7rRVfzf1"
      },
      "execution_count": null,
      "outputs": []
    },
    {
      "cell_type": "code",
      "source": [
        "plt.plot(X_art, a_weighted);"
      ],
      "metadata": {
        "id": "LXbqNdM2gHpd"
      },
      "execution_count": null,
      "outputs": []
    },
    {
      "cell_type": "markdown",
      "source": [
        "## Výstup skryté vrstvy po sečtení vážených vstupů a přičtení prahové hodnoty (aktivační funkce je identita)"
      ],
      "metadata": {
        "id": "QB7ywAhuIemo"
      }
    },
    {
      "cell_type": "code",
      "source": [
        "plt.scatter(x, y)\n",
        "plt.plot(X_art, a_weighted.sum(axis=1)+output.bias.numpy(), 'r')\n",
        "\n"
      ],
      "metadata": {
        "id": "8oVAMYGIgO19"
      },
      "execution_count": null,
      "outputs": []
    },
    {
      "cell_type": "code",
      "source": [],
      "metadata": {
        "id": "D1gDiRD9jknG"
      },
      "execution_count": null,
      "outputs": []
    }
  ]
}
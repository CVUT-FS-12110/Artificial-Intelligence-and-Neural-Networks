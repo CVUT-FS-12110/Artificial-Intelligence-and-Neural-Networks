{
 "cells": [
  {
   "cell_type": "markdown",
   "metadata": {},
   "source": [
    "# Convolutional Neural Network for Hand-written Digits Classifiaction\n",
    "\n"
   ]
  },
  {
   "cell_type": "code",
   "execution_count": null,
   "metadata": {},
   "outputs": [],
   "source": [
    "# Import MNIST data\n",
    "import tensorflow as tf\n",
    "import matplotlib.pyplot as plt\n",
    "import numpy as np"
   ]
  },
  {
   "cell_type": "markdown",
   "metadata": {},
   "source": [
    "## CNN Overview\n",
    "\n",
    "![CNN](http://personal.ie.cuhk.edu.hk/~ccloy/project_target_code/images/fig3.png)\n",
    "\n",
    "## MNIST Dataset Overview\n",
    "\n",
    "The MNIST handwritten digits dataset contains 60,000 examples for training and 10,000 examples for testing. The digits have been size-normalized and centered in a fixed-size image (28x28 pixels) with values from 0 to 1. \n",
    "\n",
    "More info: http://yann.lecun.com/exdb/mnist/"
   ]
  },
  {
   "cell_type": "code",
   "execution_count": null,
   "metadata": {},
   "outputs": [],
   "source": [
    "mnist = tf.keras.datasets.mnist\n",
    "\n",
    "(x_train, y_train), (x_test, y_test) = mnist.load_data()\n",
    "x_train, x_test = x_train / 255.0, x_test / 255.0\n",
    "\n",
    "x_train = x_train.astype('float32') / 255.\n",
    "x_test = x_test.astype('float32') / 255.\n",
    "\n",
    "x_train = x_train[..., tf.newaxis]\n",
    "x_test = x_test[..., tf.newaxis]\n"
   ]
  },
  {
   "cell_type": "code",
   "execution_count": null,
   "metadata": {},
   "outputs": [],
   "source": [
    "plt.figure(figsize=(10, 10))\n",
    "for idx in range(25):\n",
    "    plt.subplot(5, 5, idx+1)\n",
    "    fig = plt.imshow(tf.squeeze(x_train[idx]), cmap='gray')\n",
    "    plt.title('Target {}'.format(y_train[idx]))\n",
    "    fig.axes.get_xaxis().set_visible(False)\n",
    "    fig.axes.get_yaxis().set_visible(False)"
   ]
  },
  {
   "cell_type": "code",
   "execution_count": null,
   "metadata": {},
   "outputs": [],
   "source": [
    "model = tf.keras.models.Sequential([tf.keras.layers.Conv2D(24, kernel_size=5, activation='relu', input_shape=[28, 28, 1]),\n",
    "                                    tf.keras.layers.Dropout(0.25),\n",
    "                                    tf.keras.layers.MaxPool2D(pool_size=(2, 2)),\n",
    "                                    tf.keras.layers.Conv2D(48, kernel_size=5, activation='relu'),\n",
    "                                    tf.keras.layers.Dropout(0.25),\n",
    "                                    tf.keras.layers.MaxPool2D(pool_size=(2, 2)),\n",
    "                                    tf.keras.layers.Flatten(),\n",
    "                                    tf.keras.layers.Dense(256, activation='relu'),\n",
    "                                    tf.keras.layers.Dropout(0.25),\n",
    "                                    tf.keras.layers.Dense(10, activation='softmax')\n",
    "                                   ])\n",
    "\n",
    "model.compile(optimizer='adam',\n",
    "              batch_size=512,\n",
    "              shuffle=True,\n",
    "              loss='sparse_categorical_crossentropy',\n",
    "              metrics=['accuracy'])\n"
   ]
  },
  {
   "cell_type": "code",
   "execution_count": null,
   "metadata": {},
   "outputs": [],
   "source": [
    "model.fit(x_train, y_train, epochs=5)\n",
    "\n",
    "model.evaluate(x_test,  y_test, verbose=2)"
   ]
  },
  {
   "cell_type": "code",
   "execution_count": null,
   "metadata": {},
   "outputs": [],
   "source": [
    "model.summary()"
   ]
  },
  {
   "cell_type": "code",
   "execution_count": null,
   "metadata": {},
   "outputs": [],
   "source": [
    "model.layers[0]._name = 'conv2d_0'\n",
    "model.layers[1]._name = 'maxpool_0'\n",
    "model.layers[2]._name = 'dropout_0'\n",
    "model.layers[3]._name = 'conv2d_1'\n",
    "model.layers[4]._name = 'maxpool_1'\n",
    "model.layers[5]._name = 'dropout_1'\n",
    "model.layers[6]._name = 'flatten'\n",
    "model.layers[7]._name = 'dense_0'\n",
    "model.layers[8]._name = 'dense_1'\n",
    "\n",
    "def visualize_conv_layer(layer_name, input_x, rows, layers, layer):\n",
    "    layer_output=model.get_layer(layer_name).output\n",
    "    intermediate_model=tf.keras.models.Model(inputs=model.input,outputs=layer_output)\n",
    "    intermediate_prediction=intermediate_model.predict(input_x.reshape(1,28,28,1))\n",
    "    for idx in range(intermediate_prediction.shape[3]):\n",
    "        plt.subplot(rows, cols, layer+idx*layers)\n",
    "        fig = plt.imshow(intermediate_prediction[0, :, :, idx], cmap='gray')\n",
    "        fig.axes.get_xaxis().set_visible(False)\n",
    "        fig.axes.get_yaxis().set_visible(False)\n",
    "        if idx == 0:\n",
    "            plt.title(layer_name)"
   ]
  },
  {
   "cell_type": "code",
   "execution_count": null,
   "metadata": {
    "scrolled": false
   },
   "outputs": [],
   "source": [
    "rows = 64\n",
    "cols = 3\n",
    "input_x = x_test[1]\n",
    "plt.figure(figsize=(10,100))\n",
    "plt.subplot(rows, cols, 1)\n",
    "fig = plt.imshow(input_x[:, :, 0], cmap='gray')\n",
    "plt.title('Input')\n",
    "fig.axes.get_xaxis().set_visible(False)\n",
    "fig.axes.get_yaxis().set_visible(False)\n",
    "visualize_conv_layer('conv2d_0', input_x, 64, 3, 2)\n",
    "visualize_conv_layer('conv2d_1', input_x, 64, 3, 3)"
   ]
  },
  {
   "cell_type": "code",
   "execution_count": null,
   "metadata": {},
   "outputs": [],
   "source": [
    "ypredict = np.argmax(model.predict(x_test), axis=1)\n",
    "wrong = np.where(ypredict-y_test)[0]\n",
    "plt.figure(figsize=(10, 10))\n",
    "\n",
    "print(wrong)\n",
    "start = 100\n",
    "for idx in range(25):\n",
    "    plt.subplot(5,5,idx+1)\n",
    "    fig = plt.imshow(x_test[wrong[idx]].reshape(28,28), cmap='gray')\n",
    "#     print(model.predict(x_test[idx+start].reshape(1, 28, 28)), np.argmax(model.predict(x_test[idx+start].reshape(1, 28, 28))))\n",
    "    plt.title('{} - {}'.format(y_test[wrong[idx]], ypredict[wrong[idx]]))\n",
    "    fig.axes.get_xaxis().set_visible(False)\n",
    "    fig.axes.get_yaxis().set_visible(False)"
   ]
  },
  {
   "cell_type": "code",
   "execution_count": null,
   "metadata": {},
   "outputs": [],
   "source": []
  }
 ],
 "metadata": {
  "kernelspec": {
   "display_name": "Python 3",
   "language": "python",
   "name": "python3"
  },
  "language_info": {
   "codemirror_mode": {
    "name": "ipython",
    "version": 3
   },
   "file_extension": ".py",
   "mimetype": "text/x-python",
   "name": "python",
   "nbconvert_exporter": "python",
   "pygments_lexer": "ipython3",
   "version": "3.5.5"
  }
 },
 "nbformat": 4,
 "nbformat_minor": 2
}
